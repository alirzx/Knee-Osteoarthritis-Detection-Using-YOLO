{
  "nbformat": 4,
  "nbformat_minor": 0,
  "metadata": {
    "colab": {
      "provenance": [],
      "gpuType": "T4"
    },
    "kernelspec": {
      "name": "python3",
      "display_name": "Python 3"
    },
    "language_info": {
      "name": "python"
    },
    "accelerator": "GPU"
  },
  "cells": [
    {
      "cell_type": "code",
      "source": [
        "! pip install torchviz\n",
        "! pip install torchsummary\n",
        "! pip install imblearn\n",
        "!pip install efficientnet_pytorch\n",
        "!pip install ultralytics\n",
        "! pip install split-folders"
      ],
      "metadata": {
        "colab": {
          "base_uri": "https://localhost:8080/"
        },
        "id": "FmoPXEvO7l87",
        "outputId": "98630d39-1ddb-4ae3-fcc2-c6f7efd4b0b3"
      },
      "execution_count": 1,
      "outputs": [
        {
          "output_type": "stream",
          "name": "stdout",
          "text": [
            "Collecting torchviz\n",
            "  Downloading torchviz-0.0.3-py3-none-any.whl.metadata (2.1 kB)\n",
            "Requirement already satisfied: torch in /usr/local/lib/python3.11/dist-packages (from torchviz) (2.5.1+cu124)\n",
            "Requirement already satisfied: graphviz in /usr/local/lib/python3.11/dist-packages (from torchviz) (0.20.3)\n",
            "Requirement already satisfied: filelock in /usr/local/lib/python3.11/dist-packages (from torch->torchviz) (3.17.0)\n",
            "Requirement already satisfied: typing-extensions>=4.8.0 in /usr/local/lib/python3.11/dist-packages (from torch->torchviz) (4.12.2)\n",
            "Requirement already satisfied: networkx in /usr/local/lib/python3.11/dist-packages (from torch->torchviz) (3.4.2)\n",
            "Requirement already satisfied: jinja2 in /usr/local/lib/python3.11/dist-packages (from torch->torchviz) (3.1.5)\n",
            "Requirement already satisfied: fsspec in /usr/local/lib/python3.11/dist-packages (from torch->torchviz) (2024.10.0)\n",
            "Collecting nvidia-cuda-nvrtc-cu12==12.4.127 (from torch->torchviz)\n",
            "  Downloading nvidia_cuda_nvrtc_cu12-12.4.127-py3-none-manylinux2014_x86_64.whl.metadata (1.5 kB)\n",
            "Collecting nvidia-cuda-runtime-cu12==12.4.127 (from torch->torchviz)\n",
            "  Downloading nvidia_cuda_runtime_cu12-12.4.127-py3-none-manylinux2014_x86_64.whl.metadata (1.5 kB)\n",
            "Collecting nvidia-cuda-cupti-cu12==12.4.127 (from torch->torchviz)\n",
            "  Downloading nvidia_cuda_cupti_cu12-12.4.127-py3-none-manylinux2014_x86_64.whl.metadata (1.6 kB)\n",
            "Collecting nvidia-cudnn-cu12==9.1.0.70 (from torch->torchviz)\n",
            "  Downloading nvidia_cudnn_cu12-9.1.0.70-py3-none-manylinux2014_x86_64.whl.metadata (1.6 kB)\n",
            "Collecting nvidia-cublas-cu12==12.4.5.8 (from torch->torchviz)\n",
            "  Downloading nvidia_cublas_cu12-12.4.5.8-py3-none-manylinux2014_x86_64.whl.metadata (1.5 kB)\n",
            "Collecting nvidia-cufft-cu12==11.2.1.3 (from torch->torchviz)\n",
            "  Downloading nvidia_cufft_cu12-11.2.1.3-py3-none-manylinux2014_x86_64.whl.metadata (1.5 kB)\n",
            "Collecting nvidia-curand-cu12==10.3.5.147 (from torch->torchviz)\n",
            "  Downloading nvidia_curand_cu12-10.3.5.147-py3-none-manylinux2014_x86_64.whl.metadata (1.5 kB)\n",
            "Collecting nvidia-cusolver-cu12==11.6.1.9 (from torch->torchviz)\n",
            "  Downloading nvidia_cusolver_cu12-11.6.1.9-py3-none-manylinux2014_x86_64.whl.metadata (1.6 kB)\n",
            "Collecting nvidia-cusparse-cu12==12.3.1.170 (from torch->torchviz)\n",
            "  Downloading nvidia_cusparse_cu12-12.3.1.170-py3-none-manylinux2014_x86_64.whl.metadata (1.6 kB)\n",
            "Requirement already satisfied: nvidia-nccl-cu12==2.21.5 in /usr/local/lib/python3.11/dist-packages (from torch->torchviz) (2.21.5)\n",
            "Requirement already satisfied: nvidia-nvtx-cu12==12.4.127 in /usr/local/lib/python3.11/dist-packages (from torch->torchviz) (12.4.127)\n",
            "Collecting nvidia-nvjitlink-cu12==12.4.127 (from torch->torchviz)\n",
            "  Downloading nvidia_nvjitlink_cu12-12.4.127-py3-none-manylinux2014_x86_64.whl.metadata (1.5 kB)\n",
            "Requirement already satisfied: triton==3.1.0 in /usr/local/lib/python3.11/dist-packages (from torch->torchviz) (3.1.0)\n",
            "Requirement already satisfied: sympy==1.13.1 in /usr/local/lib/python3.11/dist-packages (from torch->torchviz) (1.13.1)\n",
            "Requirement already satisfied: mpmath<1.4,>=1.1.0 in /usr/local/lib/python3.11/dist-packages (from sympy==1.13.1->torch->torchviz) (1.3.0)\n",
            "Requirement already satisfied: MarkupSafe>=2.0 in /usr/local/lib/python3.11/dist-packages (from jinja2->torch->torchviz) (3.0.2)\n",
            "Downloading torchviz-0.0.3-py3-none-any.whl (5.7 kB)\n",
            "Downloading nvidia_cublas_cu12-12.4.5.8-py3-none-manylinux2014_x86_64.whl (363.4 MB)\n",
            "\u001b[2K   \u001b[90m━━━━━━━━━━━━━━━━━━━━━━━━━━━━━━━━━━━━━━━━\u001b[0m \u001b[32m363.4/363.4 MB\u001b[0m \u001b[31m3.7 MB/s\u001b[0m eta \u001b[36m0:00:00\u001b[0m\n",
            "\u001b[?25hDownloading nvidia_cuda_cupti_cu12-12.4.127-py3-none-manylinux2014_x86_64.whl (13.8 MB)\n",
            "\u001b[2K   \u001b[90m━━━━━━━━━━━━━━━━━━━━━━━━━━━━━━━━━━━━━━━━\u001b[0m \u001b[32m13.8/13.8 MB\u001b[0m \u001b[31m31.2 MB/s\u001b[0m eta \u001b[36m0:00:00\u001b[0m\n",
            "\u001b[?25hDownloading nvidia_cuda_nvrtc_cu12-12.4.127-py3-none-manylinux2014_x86_64.whl (24.6 MB)\n",
            "\u001b[2K   \u001b[90m━━━━━━━━━━━━━━━━━━━━━━━━━━━━━━━━━━━━━━━━\u001b[0m \u001b[32m24.6/24.6 MB\u001b[0m \u001b[31m22.8 MB/s\u001b[0m eta \u001b[36m0:00:00\u001b[0m\n",
            "\u001b[?25hDownloading nvidia_cuda_runtime_cu12-12.4.127-py3-none-manylinux2014_x86_64.whl (883 kB)\n",
            "\u001b[2K   \u001b[90m━━━━━━━━━━━━━━━━━━━━━━━━━━━━━━━━━━━━━━━━\u001b[0m \u001b[32m883.7/883.7 kB\u001b[0m \u001b[31m34.0 MB/s\u001b[0m eta \u001b[36m0:00:00\u001b[0m\n",
            "\u001b[?25hDownloading nvidia_cudnn_cu12-9.1.0.70-py3-none-manylinux2014_x86_64.whl (664.8 MB)\n",
            "\u001b[2K   \u001b[90m━━━━━━━━━━━━━━━━━━━━━━━━━━━━━━━━━━━━━━━━\u001b[0m \u001b[32m664.8/664.8 MB\u001b[0m \u001b[31m2.8 MB/s\u001b[0m eta \u001b[36m0:00:00\u001b[0m\n",
            "\u001b[?25hDownloading nvidia_cufft_cu12-11.2.1.3-py3-none-manylinux2014_x86_64.whl (211.5 MB)\n",
            "\u001b[2K   \u001b[90m━━━━━━━━━━━━━━━━━━━━━━━━━━━━━━━━━━━━━━━━\u001b[0m \u001b[32m211.5/211.5 MB\u001b[0m \u001b[31m5.4 MB/s\u001b[0m eta \u001b[36m0:00:00\u001b[0m\n",
            "\u001b[?25hDownloading nvidia_curand_cu12-10.3.5.147-py3-none-manylinux2014_x86_64.whl (56.3 MB)\n",
            "\u001b[2K   \u001b[90m━━━━━━━━━━━━━━━━━━━━━━━━━━━━━━━━━━━━━━━━\u001b[0m \u001b[32m56.3/56.3 MB\u001b[0m \u001b[31m12.8 MB/s\u001b[0m eta \u001b[36m0:00:00\u001b[0m\n",
            "\u001b[?25hDownloading nvidia_cusolver_cu12-11.6.1.9-py3-none-manylinux2014_x86_64.whl (127.9 MB)\n",
            "\u001b[2K   \u001b[90m━━━━━━━━━━━━━━━━━━━━━━━━━━━━━━━━━━━━━━━━\u001b[0m \u001b[32m127.9/127.9 MB\u001b[0m \u001b[31m7.2 MB/s\u001b[0m eta \u001b[36m0:00:00\u001b[0m\n",
            "\u001b[?25hDownloading nvidia_cusparse_cu12-12.3.1.170-py3-none-manylinux2014_x86_64.whl (207.5 MB)\n",
            "\u001b[2K   \u001b[90m━━━━━━━━━━━━━━━━━━━━━━━━━━━━━━━━━━━━━━━━\u001b[0m \u001b[32m207.5/207.5 MB\u001b[0m \u001b[31m5.4 MB/s\u001b[0m eta \u001b[36m0:00:00\u001b[0m\n",
            "\u001b[?25hDownloading nvidia_nvjitlink_cu12-12.4.127-py3-none-manylinux2014_x86_64.whl (21.1 MB)\n",
            "\u001b[2K   \u001b[90m━━━━━━━━━━━━━━━━━━━━━━━━━━━━━━━━━━━━━━━━\u001b[0m \u001b[32m21.1/21.1 MB\u001b[0m \u001b[31m59.0 MB/s\u001b[0m eta \u001b[36m0:00:00\u001b[0m\n",
            "\u001b[?25hInstalling collected packages: nvidia-nvjitlink-cu12, nvidia-curand-cu12, nvidia-cufft-cu12, nvidia-cuda-runtime-cu12, nvidia-cuda-nvrtc-cu12, nvidia-cuda-cupti-cu12, nvidia-cublas-cu12, nvidia-cusparse-cu12, nvidia-cudnn-cu12, nvidia-cusolver-cu12, torchviz\n",
            "  Attempting uninstall: nvidia-nvjitlink-cu12\n",
            "    Found existing installation: nvidia-nvjitlink-cu12 12.5.82\n",
            "    Uninstalling nvidia-nvjitlink-cu12-12.5.82:\n",
            "      Successfully uninstalled nvidia-nvjitlink-cu12-12.5.82\n",
            "  Attempting uninstall: nvidia-curand-cu12\n",
            "    Found existing installation: nvidia-curand-cu12 10.3.6.82\n",
            "    Uninstalling nvidia-curand-cu12-10.3.6.82:\n",
            "      Successfully uninstalled nvidia-curand-cu12-10.3.6.82\n",
            "  Attempting uninstall: nvidia-cufft-cu12\n",
            "    Found existing installation: nvidia-cufft-cu12 11.2.3.61\n",
            "    Uninstalling nvidia-cufft-cu12-11.2.3.61:\n",
            "      Successfully uninstalled nvidia-cufft-cu12-11.2.3.61\n",
            "  Attempting uninstall: nvidia-cuda-runtime-cu12\n",
            "    Found existing installation: nvidia-cuda-runtime-cu12 12.5.82\n",
            "    Uninstalling nvidia-cuda-runtime-cu12-12.5.82:\n",
            "      Successfully uninstalled nvidia-cuda-runtime-cu12-12.5.82\n",
            "  Attempting uninstall: nvidia-cuda-nvrtc-cu12\n",
            "    Found existing installation: nvidia-cuda-nvrtc-cu12 12.5.82\n",
            "    Uninstalling nvidia-cuda-nvrtc-cu12-12.5.82:\n",
            "      Successfully uninstalled nvidia-cuda-nvrtc-cu12-12.5.82\n",
            "  Attempting uninstall: nvidia-cuda-cupti-cu12\n",
            "    Found existing installation: nvidia-cuda-cupti-cu12 12.5.82\n",
            "    Uninstalling nvidia-cuda-cupti-cu12-12.5.82:\n",
            "      Successfully uninstalled nvidia-cuda-cupti-cu12-12.5.82\n",
            "  Attempting uninstall: nvidia-cublas-cu12\n",
            "    Found existing installation: nvidia-cublas-cu12 12.5.3.2\n",
            "    Uninstalling nvidia-cublas-cu12-12.5.3.2:\n",
            "      Successfully uninstalled nvidia-cublas-cu12-12.5.3.2\n",
            "  Attempting uninstall: nvidia-cusparse-cu12\n",
            "    Found existing installation: nvidia-cusparse-cu12 12.5.1.3\n",
            "    Uninstalling nvidia-cusparse-cu12-12.5.1.3:\n",
            "      Successfully uninstalled nvidia-cusparse-cu12-12.5.1.3\n",
            "  Attempting uninstall: nvidia-cudnn-cu12\n",
            "    Found existing installation: nvidia-cudnn-cu12 9.3.0.75\n",
            "    Uninstalling nvidia-cudnn-cu12-9.3.0.75:\n",
            "      Successfully uninstalled nvidia-cudnn-cu12-9.3.0.75\n",
            "  Attempting uninstall: nvidia-cusolver-cu12\n",
            "    Found existing installation: nvidia-cusolver-cu12 11.6.3.83\n",
            "    Uninstalling nvidia-cusolver-cu12-11.6.3.83:\n",
            "      Successfully uninstalled nvidia-cusolver-cu12-11.6.3.83\n",
            "Successfully installed nvidia-cublas-cu12-12.4.5.8 nvidia-cuda-cupti-cu12-12.4.127 nvidia-cuda-nvrtc-cu12-12.4.127 nvidia-cuda-runtime-cu12-12.4.127 nvidia-cudnn-cu12-9.1.0.70 nvidia-cufft-cu12-11.2.1.3 nvidia-curand-cu12-10.3.5.147 nvidia-cusolver-cu12-11.6.1.9 nvidia-cusparse-cu12-12.3.1.170 nvidia-nvjitlink-cu12-12.4.127 torchviz-0.0.3\n",
            "Requirement already satisfied: torchsummary in /usr/local/lib/python3.11/dist-packages (1.5.1)\n",
            "Collecting imblearn\n",
            "  Downloading imblearn-0.0-py2.py3-none-any.whl.metadata (355 bytes)\n",
            "Requirement already satisfied: imbalanced-learn in /usr/local/lib/python3.11/dist-packages (from imblearn) (0.13.0)\n",
            "Requirement already satisfied: numpy<3,>=1.24.3 in /usr/local/lib/python3.11/dist-packages (from imbalanced-learn->imblearn) (1.26.4)\n",
            "Requirement already satisfied: scipy<2,>=1.10.1 in /usr/local/lib/python3.11/dist-packages (from imbalanced-learn->imblearn) (1.13.1)\n",
            "Requirement already satisfied: scikit-learn<2,>=1.3.2 in /usr/local/lib/python3.11/dist-packages (from imbalanced-learn->imblearn) (1.6.1)\n",
            "Requirement already satisfied: sklearn-compat<1,>=0.1 in /usr/local/lib/python3.11/dist-packages (from imbalanced-learn->imblearn) (0.1.3)\n",
            "Requirement already satisfied: joblib<2,>=1.1.1 in /usr/local/lib/python3.11/dist-packages (from imbalanced-learn->imblearn) (1.4.2)\n",
            "Requirement already satisfied: threadpoolctl<4,>=2.0.0 in /usr/local/lib/python3.11/dist-packages (from imbalanced-learn->imblearn) (3.5.0)\n",
            "Downloading imblearn-0.0-py2.py3-none-any.whl (1.9 kB)\n",
            "Installing collected packages: imblearn\n",
            "Successfully installed imblearn-0.0\n",
            "Collecting efficientnet_pytorch\n",
            "  Downloading efficientnet_pytorch-0.7.1.tar.gz (21 kB)\n",
            "  Preparing metadata (setup.py) ... \u001b[?25l\u001b[?25hdone\n",
            "Requirement already satisfied: torch in /usr/local/lib/python3.11/dist-packages (from efficientnet_pytorch) (2.5.1+cu124)\n",
            "Requirement already satisfied: filelock in /usr/local/lib/python3.11/dist-packages (from torch->efficientnet_pytorch) (3.17.0)\n",
            "Requirement already satisfied: typing-extensions>=4.8.0 in /usr/local/lib/python3.11/dist-packages (from torch->efficientnet_pytorch) (4.12.2)\n",
            "Requirement already satisfied: networkx in /usr/local/lib/python3.11/dist-packages (from torch->efficientnet_pytorch) (3.4.2)\n",
            "Requirement already satisfied: jinja2 in /usr/local/lib/python3.11/dist-packages (from torch->efficientnet_pytorch) (3.1.5)\n",
            "Requirement already satisfied: fsspec in /usr/local/lib/python3.11/dist-packages (from torch->efficientnet_pytorch) (2024.10.0)\n",
            "Requirement already satisfied: nvidia-cuda-nvrtc-cu12==12.4.127 in /usr/local/lib/python3.11/dist-packages (from torch->efficientnet_pytorch) (12.4.127)\n",
            "Requirement already satisfied: nvidia-cuda-runtime-cu12==12.4.127 in /usr/local/lib/python3.11/dist-packages (from torch->efficientnet_pytorch) (12.4.127)\n",
            "Requirement already satisfied: nvidia-cuda-cupti-cu12==12.4.127 in /usr/local/lib/python3.11/dist-packages (from torch->efficientnet_pytorch) (12.4.127)\n",
            "Requirement already satisfied: nvidia-cudnn-cu12==9.1.0.70 in /usr/local/lib/python3.11/dist-packages (from torch->efficientnet_pytorch) (9.1.0.70)\n",
            "Requirement already satisfied: nvidia-cublas-cu12==12.4.5.8 in /usr/local/lib/python3.11/dist-packages (from torch->efficientnet_pytorch) (12.4.5.8)\n",
            "Requirement already satisfied: nvidia-cufft-cu12==11.2.1.3 in /usr/local/lib/python3.11/dist-packages (from torch->efficientnet_pytorch) (11.2.1.3)\n",
            "Requirement already satisfied: nvidia-curand-cu12==10.3.5.147 in /usr/local/lib/python3.11/dist-packages (from torch->efficientnet_pytorch) (10.3.5.147)\n",
            "Requirement already satisfied: nvidia-cusolver-cu12==11.6.1.9 in /usr/local/lib/python3.11/dist-packages (from torch->efficientnet_pytorch) (11.6.1.9)\n",
            "Requirement already satisfied: nvidia-cusparse-cu12==12.3.1.170 in /usr/local/lib/python3.11/dist-packages (from torch->efficientnet_pytorch) (12.3.1.170)\n",
            "Requirement already satisfied: nvidia-nccl-cu12==2.21.5 in /usr/local/lib/python3.11/dist-packages (from torch->efficientnet_pytorch) (2.21.5)\n",
            "Requirement already satisfied: nvidia-nvtx-cu12==12.4.127 in /usr/local/lib/python3.11/dist-packages (from torch->efficientnet_pytorch) (12.4.127)\n",
            "Requirement already satisfied: nvidia-nvjitlink-cu12==12.4.127 in /usr/local/lib/python3.11/dist-packages (from torch->efficientnet_pytorch) (12.4.127)\n",
            "Requirement already satisfied: triton==3.1.0 in /usr/local/lib/python3.11/dist-packages (from torch->efficientnet_pytorch) (3.1.0)\n",
            "Requirement already satisfied: sympy==1.13.1 in /usr/local/lib/python3.11/dist-packages (from torch->efficientnet_pytorch) (1.13.1)\n",
            "Requirement already satisfied: mpmath<1.4,>=1.1.0 in /usr/local/lib/python3.11/dist-packages (from sympy==1.13.1->torch->efficientnet_pytorch) (1.3.0)\n",
            "Requirement already satisfied: MarkupSafe>=2.0 in /usr/local/lib/python3.11/dist-packages (from jinja2->torch->efficientnet_pytorch) (3.0.2)\n",
            "Building wheels for collected packages: efficientnet_pytorch\n",
            "  Building wheel for efficientnet_pytorch (setup.py) ... \u001b[?25l\u001b[?25hdone\n",
            "  Created wheel for efficientnet_pytorch: filename=efficientnet_pytorch-0.7.1-py3-none-any.whl size=16424 sha256=5cd04e0283cb376d4083a83319ddfd609ea88d56f044f87ca554baad388b9420\n",
            "  Stored in directory: /root/.cache/pip/wheels/8b/6f/9b/231a832f811ab6ebb1b32455b177ffc6b8b1cd8de19de70c09\n",
            "Successfully built efficientnet_pytorch\n",
            "Installing collected packages: efficientnet_pytorch\n",
            "Successfully installed efficientnet_pytorch-0.7.1\n",
            "Collecting ultralytics\n",
            "  Downloading ultralytics-8.3.78-py3-none-any.whl.metadata (35 kB)\n",
            "Requirement already satisfied: numpy<=2.1.1,>=1.23.0 in /usr/local/lib/python3.11/dist-packages (from ultralytics) (1.26.4)\n",
            "Requirement already satisfied: matplotlib>=3.3.0 in /usr/local/lib/python3.11/dist-packages (from ultralytics) (3.10.0)\n",
            "Requirement already satisfied: opencv-python>=4.6.0 in /usr/local/lib/python3.11/dist-packages (from ultralytics) (4.11.0.86)\n",
            "Requirement already satisfied: pillow>=7.1.2 in /usr/local/lib/python3.11/dist-packages (from ultralytics) (11.1.0)\n",
            "Requirement already satisfied: pyyaml>=5.3.1 in /usr/local/lib/python3.11/dist-packages (from ultralytics) (6.0.2)\n",
            "Requirement already satisfied: requests>=2.23.0 in /usr/local/lib/python3.11/dist-packages (from ultralytics) (2.32.3)\n",
            "Requirement already satisfied: scipy>=1.4.1 in /usr/local/lib/python3.11/dist-packages (from ultralytics) (1.13.1)\n",
            "Requirement already satisfied: torch>=1.8.0 in /usr/local/lib/python3.11/dist-packages (from ultralytics) (2.5.1+cu124)\n",
            "Requirement already satisfied: torchvision>=0.9.0 in /usr/local/lib/python3.11/dist-packages (from ultralytics) (0.20.1+cu124)\n",
            "Requirement already satisfied: tqdm>=4.64.0 in /usr/local/lib/python3.11/dist-packages (from ultralytics) (4.67.1)\n",
            "Requirement already satisfied: psutil in /usr/local/lib/python3.11/dist-packages (from ultralytics) (5.9.5)\n",
            "Requirement already satisfied: py-cpuinfo in /usr/local/lib/python3.11/dist-packages (from ultralytics) (9.0.0)\n",
            "Requirement already satisfied: pandas>=1.1.4 in /usr/local/lib/python3.11/dist-packages (from ultralytics) (2.2.2)\n",
            "Requirement already satisfied: seaborn>=0.11.0 in /usr/local/lib/python3.11/dist-packages (from ultralytics) (0.13.2)\n",
            "Collecting ultralytics-thop>=2.0.0 (from ultralytics)\n",
            "  Downloading ultralytics_thop-2.0.14-py3-none-any.whl.metadata (9.4 kB)\n",
            "Requirement already satisfied: contourpy>=1.0.1 in /usr/local/lib/python3.11/dist-packages (from matplotlib>=3.3.0->ultralytics) (1.3.1)\n",
            "Requirement already satisfied: cycler>=0.10 in /usr/local/lib/python3.11/dist-packages (from matplotlib>=3.3.0->ultralytics) (0.12.1)\n",
            "Requirement already satisfied: fonttools>=4.22.0 in /usr/local/lib/python3.11/dist-packages (from matplotlib>=3.3.0->ultralytics) (4.56.0)\n",
            "Requirement already satisfied: kiwisolver>=1.3.1 in /usr/local/lib/python3.11/dist-packages (from matplotlib>=3.3.0->ultralytics) (1.4.8)\n",
            "Requirement already satisfied: packaging>=20.0 in /usr/local/lib/python3.11/dist-packages (from matplotlib>=3.3.0->ultralytics) (24.2)\n",
            "Requirement already satisfied: pyparsing>=2.3.1 in /usr/local/lib/python3.11/dist-packages (from matplotlib>=3.3.0->ultralytics) (3.2.1)\n",
            "Requirement already satisfied: python-dateutil>=2.7 in /usr/local/lib/python3.11/dist-packages (from matplotlib>=3.3.0->ultralytics) (2.8.2)\n",
            "Requirement already satisfied: pytz>=2020.1 in /usr/local/lib/python3.11/dist-packages (from pandas>=1.1.4->ultralytics) (2025.1)\n",
            "Requirement already satisfied: tzdata>=2022.7 in /usr/local/lib/python3.11/dist-packages (from pandas>=1.1.4->ultralytics) (2025.1)\n",
            "Requirement already satisfied: charset-normalizer<4,>=2 in /usr/local/lib/python3.11/dist-packages (from requests>=2.23.0->ultralytics) (3.4.1)\n",
            "Requirement already satisfied: idna<4,>=2.5 in /usr/local/lib/python3.11/dist-packages (from requests>=2.23.0->ultralytics) (3.10)\n",
            "Requirement already satisfied: urllib3<3,>=1.21.1 in /usr/local/lib/python3.11/dist-packages (from requests>=2.23.0->ultralytics) (2.3.0)\n",
            "Requirement already satisfied: certifi>=2017.4.17 in /usr/local/lib/python3.11/dist-packages (from requests>=2.23.0->ultralytics) (2025.1.31)\n",
            "Requirement already satisfied: filelock in /usr/local/lib/python3.11/dist-packages (from torch>=1.8.0->ultralytics) (3.17.0)\n",
            "Requirement already satisfied: typing-extensions>=4.8.0 in /usr/local/lib/python3.11/dist-packages (from torch>=1.8.0->ultralytics) (4.12.2)\n",
            "Requirement already satisfied: networkx in /usr/local/lib/python3.11/dist-packages (from torch>=1.8.0->ultralytics) (3.4.2)\n",
            "Requirement already satisfied: jinja2 in /usr/local/lib/python3.11/dist-packages (from torch>=1.8.0->ultralytics) (3.1.5)\n",
            "Requirement already satisfied: fsspec in /usr/local/lib/python3.11/dist-packages (from torch>=1.8.0->ultralytics) (2024.10.0)\n",
            "Requirement already satisfied: nvidia-cuda-nvrtc-cu12==12.4.127 in /usr/local/lib/python3.11/dist-packages (from torch>=1.8.0->ultralytics) (12.4.127)\n",
            "Requirement already satisfied: nvidia-cuda-runtime-cu12==12.4.127 in /usr/local/lib/python3.11/dist-packages (from torch>=1.8.0->ultralytics) (12.4.127)\n",
            "Requirement already satisfied: nvidia-cuda-cupti-cu12==12.4.127 in /usr/local/lib/python3.11/dist-packages (from torch>=1.8.0->ultralytics) (12.4.127)\n",
            "Requirement already satisfied: nvidia-cudnn-cu12==9.1.0.70 in /usr/local/lib/python3.11/dist-packages (from torch>=1.8.0->ultralytics) (9.1.0.70)\n",
            "Requirement already satisfied: nvidia-cublas-cu12==12.4.5.8 in /usr/local/lib/python3.11/dist-packages (from torch>=1.8.0->ultralytics) (12.4.5.8)\n",
            "Requirement already satisfied: nvidia-cufft-cu12==11.2.1.3 in /usr/local/lib/python3.11/dist-packages (from torch>=1.8.0->ultralytics) (11.2.1.3)\n",
            "Requirement already satisfied: nvidia-curand-cu12==10.3.5.147 in /usr/local/lib/python3.11/dist-packages (from torch>=1.8.0->ultralytics) (10.3.5.147)\n",
            "Requirement already satisfied: nvidia-cusolver-cu12==11.6.1.9 in /usr/local/lib/python3.11/dist-packages (from torch>=1.8.0->ultralytics) (11.6.1.9)\n",
            "Requirement already satisfied: nvidia-cusparse-cu12==12.3.1.170 in /usr/local/lib/python3.11/dist-packages (from torch>=1.8.0->ultralytics) (12.3.1.170)\n",
            "Requirement already satisfied: nvidia-nccl-cu12==2.21.5 in /usr/local/lib/python3.11/dist-packages (from torch>=1.8.0->ultralytics) (2.21.5)\n",
            "Requirement already satisfied: nvidia-nvtx-cu12==12.4.127 in /usr/local/lib/python3.11/dist-packages (from torch>=1.8.0->ultralytics) (12.4.127)\n",
            "Requirement already satisfied: nvidia-nvjitlink-cu12==12.4.127 in /usr/local/lib/python3.11/dist-packages (from torch>=1.8.0->ultralytics) (12.4.127)\n",
            "Requirement already satisfied: triton==3.1.0 in /usr/local/lib/python3.11/dist-packages (from torch>=1.8.0->ultralytics) (3.1.0)\n",
            "Requirement already satisfied: sympy==1.13.1 in /usr/local/lib/python3.11/dist-packages (from torch>=1.8.0->ultralytics) (1.13.1)\n",
            "Requirement already satisfied: mpmath<1.4,>=1.1.0 in /usr/local/lib/python3.11/dist-packages (from sympy==1.13.1->torch>=1.8.0->ultralytics) (1.3.0)\n",
            "Requirement already satisfied: six>=1.5 in /usr/local/lib/python3.11/dist-packages (from python-dateutil>=2.7->matplotlib>=3.3.0->ultralytics) (1.17.0)\n",
            "Requirement already satisfied: MarkupSafe>=2.0 in /usr/local/lib/python3.11/dist-packages (from jinja2->torch>=1.8.0->ultralytics) (3.0.2)\n",
            "Downloading ultralytics-8.3.78-py3-none-any.whl (921 kB)\n",
            "\u001b[2K   \u001b[90m━━━━━━━━━━━━━━━━━━━━━━━━━━━━━━━━━━━━━━━━\u001b[0m \u001b[32m921.5/921.5 kB\u001b[0m \u001b[31m32.3 MB/s\u001b[0m eta \u001b[36m0:00:00\u001b[0m\n",
            "\u001b[?25hDownloading ultralytics_thop-2.0.14-py3-none-any.whl (26 kB)\n",
            "Installing collected packages: ultralytics-thop, ultralytics\n",
            "Successfully installed ultralytics-8.3.78 ultralytics-thop-2.0.14\n",
            "Collecting split-folders\n",
            "  Downloading split_folders-0.5.1-py3-none-any.whl.metadata (6.2 kB)\n",
            "Downloading split_folders-0.5.1-py3-none-any.whl (8.4 kB)\n",
            "Installing collected packages: split-folders\n",
            "Successfully installed split-folders-0.5.1\n"
          ]
        }
      ]
    },
    {
      "cell_type": "code",
      "source": [
        "from google.colab import drive\n",
        "drive.mount('/content/drive')"
      ],
      "metadata": {
        "colab": {
          "base_uri": "https://localhost:8080/"
        },
        "id": "NHrlo6oa7ju8",
        "outputId": "50662933-1ba0-4dab-fe4e-fd39dc8a980d"
      },
      "execution_count": 2,
      "outputs": [
        {
          "output_type": "stream",
          "name": "stdout",
          "text": [
            "Mounted at /content/drive\n"
          ]
        }
      ]
    },
    {
      "cell_type": "code",
      "source": [
        "#if you dont have dataset, you can download that from kaggle\n",
        "import os\n",
        "import kagglehub\n",
        "import shutil\n",
        "\n",
        "# Define the paths for the new directories\n",
        "datasets_folder_path = '/content/drive/My Drive/Datasets'\n",
        "knee_folder_path = os.path.join(datasets_folder_path, 'knee-osteoarthritis-classification')\n",
        "\n",
        "# Create the directories\n",
        "os.makedirs(knee_folder_path, exist_ok=True)\n",
        "\n",
        "# Download latest version\n",
        "path = kagglehub.dataset_download(\"fuyadhasanbhoyan/knee-osteoarthritis-classification-224224\")\n",
        "\n",
        "# Move the downloaded files to the 'brain tumor dataset' folder\n",
        "for filename in os.listdir(path):\n",
        "    shutil.move(os.path.join(path, filename), os.path.join(knee_folder_path, filename))\n",
        "\n",
        "print(\"Dataset files downloaded to:\", knee_folder_path)\n"
      ],
      "metadata": {
        "colab": {
          "base_uri": "https://localhost:8080/"
        },
        "id": "_8OePrnv7jxP",
        "outputId": "b54511a0-df6f-4ef1-ebec-a8e19b117bd2"
      },
      "execution_count": 3,
      "outputs": [
        {
          "output_type": "stream",
          "name": "stdout",
          "text": [
            "Downloading from https://www.kaggle.com/api/v1/datasets/download/fuyadhasanbhoyan/knee-osteoarthritis-classification-224224?dataset_version_number=1...\n"
          ]
        },
        {
          "output_type": "stream",
          "name": "stderr",
          "text": [
            "100%|██████████| 32.7M/32.7M [00:00<00:00, 111MB/s] "
          ]
        },
        {
          "output_type": "stream",
          "name": "stdout",
          "text": [
            "Extracting files...\n"
          ]
        },
        {
          "output_type": "stream",
          "name": "stderr",
          "text": [
            "\n"
          ]
        },
        {
          "output_type": "stream",
          "name": "stdout",
          "text": [
            "Dataset files downloaded to: /content/drive/My Drive/Datasets/knee-osteoarthritis-classification\n"
          ]
        }
      ]
    },
    {
      "cell_type": "code",
      "source": [
        "import numpy as np\n",
        "import pandas as pd\n",
        "import matplotlib.pyplot as plt\n",
        "import matplotlib.image as mpimg\n",
        "import copy\n",
        "import os\n",
        "from sklearn.utils import resample\n",
        "import torch\n",
        "from PIL import Image\n",
        "from torch.utils.data import Dataset, DataLoader, random_split, Subset\n",
        "from sklearn.model_selection import train_test_split\n",
        "import torchvision\n",
        "import torchvision.transforms as transforms\n",
        "from torch.optim.lr_scheduler import ReduceLROnPlateau\n",
        "import torch.nn as nn\n",
        "from torchvision import utils\n",
        "from torchvision.datasets import ImageFolder\n",
        "from torchsummary import summary\n",
        "import torch.nn.functional as F\n",
        "import pathlib\n",
        "from torch import optim\n",
        "import torchvision.models as models\n",
        "from torchviz import make_dot\n",
        "from torchvision import models\n",
        "import random\n",
        "from sklearn.preprocessing import LabelEncoder\n",
        "from sklearn.model_selection import train_test_split\n",
        "from sklearn.metrics import precision_score, recall_score, f1_score, roc_auc_score, confusion_matrix, ConfusionMatrixDisplay , classification_report\n",
        "import seaborn as sns\n",
        "from efficientnet_pytorch import EfficientNet\n",
        "from ultralytics import YOLO\n",
        "import splitfolders\n",
        "\n",
        "\n"
      ],
      "metadata": {
        "colab": {
          "base_uri": "https://localhost:8080/"
        },
        "id": "8JhnoYr27jzm",
        "outputId": "28f4df04-f3e3-4282-8c64-54861e354619"
      },
      "execution_count": 3,
      "outputs": [
        {
          "output_type": "stream",
          "name": "stdout",
          "text": [
            "Creating new Ultralytics Settings v0.0.6 file ✅ \n",
            "View Ultralytics Settings with 'yolo settings' or at '/root/.config/Ultralytics/settings.json'\n",
            "Update Settings with 'yolo settings key=value', i.e. 'yolo settings runs_dir=path/to/dir'. For help see https://docs.ultralytics.com/quickstart/#ultralytics-settings.\n"
          ]
        }
      ]
    },
    {
      "cell_type": "markdown",
      "source": [
        "#YOLOv8s finetuning"
      ],
      "metadata": {
        "id": "p6bP908rGK1W"
      }
    },
    {
      "cell_type": "code",
      "source": [
        "\n",
        "\n",
        "# Load YOLO model\n",
        "model = YOLO(\"yolov8s-cls.pt\")\n",
        "\n",
        "# Train the model\n",
        "model.train(\n",
        "    data='/content/drive/MyDrive/Datasets/knee-osteoarthritis-classification/Knee Osteoarthritis Classification',  # Correct path\n",
        "    epochs=25,\n",
        "    imgsz=224,\n",
        "    batch=64,\n",
        "    optimizer=\"AdamW\",\n",
        "    lr0=1e-3,\n",
        "    weight_decay=1e-4,\n",
        "    augment=True,\n",
        "    patience=10\n",
        ")\n"
      ],
      "metadata": {
        "colab": {
          "base_uri": "https://localhost:8080/"
        },
        "id": "LLq96BcZ7j1z",
        "outputId": "01d84bb0-b770-41e1-aad2-f9794c66d9d6"
      },
      "execution_count": 4,
      "outputs": [
        {
          "output_type": "stream",
          "name": "stdout",
          "text": [
            "Downloading https://github.com/ultralytics/assets/releases/download/v8.3.0/yolov8s-cls.pt to 'yolov8s-cls.pt'...\n"
          ]
        },
        {
          "output_type": "stream",
          "name": "stderr",
          "text": [
            "100%|██████████| 12.3M/12.3M [00:00<00:00, 81.5MB/s]\n"
          ]
        },
        {
          "output_type": "stream",
          "name": "stdout",
          "text": [
            "Ultralytics 8.3.78 🚀 Python-3.11.11 torch-2.5.1+cu124 CUDA:0 (Tesla T4, 15095MiB)\n",
            "\u001b[34m\u001b[1mengine/trainer: \u001b[0mtask=classify, mode=train, model=yolov8s-cls.pt, data=/content/drive/MyDrive/Datasets/knee-osteoarthritis-classification/Knee Osteoarthritis Classification, epochs=25, time=None, patience=10, batch=64, imgsz=224, save=True, save_period=-1, cache=False, device=None, workers=8, project=None, name=train, exist_ok=False, pretrained=True, optimizer=AdamW, verbose=True, seed=0, deterministic=True, single_cls=False, rect=False, cos_lr=False, close_mosaic=10, resume=False, amp=True, fraction=1.0, profile=False, freeze=None, multi_scale=False, overlap_mask=True, mask_ratio=4, dropout=0.0, val=True, split=val, save_json=False, save_hybrid=False, conf=None, iou=0.7, max_det=300, half=False, dnn=False, plots=True, source=None, vid_stride=1, stream_buffer=False, visualize=False, augment=True, agnostic_nms=False, classes=None, retina_masks=False, embed=None, show=False, save_frames=False, save_txt=False, save_conf=False, save_crop=False, show_labels=True, show_conf=True, show_boxes=True, line_width=None, format=torchscript, keras=False, optimize=False, int8=False, dynamic=False, simplify=True, opset=None, workspace=None, nms=False, lr0=0.001, lrf=0.01, momentum=0.937, weight_decay=0.0001, warmup_epochs=3.0, warmup_momentum=0.8, warmup_bias_lr=0.1, box=7.5, cls=0.5, dfl=1.5, pose=12.0, kobj=1.0, nbs=64, hsv_h=0.015, hsv_s=0.7, hsv_v=0.4, degrees=0.0, translate=0.1, scale=0.5, shear=0.0, perspective=0.0, flipud=0.0, fliplr=0.5, bgr=0.0, mosaic=1.0, mixup=0.0, copy_paste=0.0, copy_paste_mode=flip, auto_augment=randaugment, erasing=0.4, crop_fraction=1.0, cfg=None, tracker=botsort.yaml, save_dir=runs/classify/train\n",
            "\u001b[34m\u001b[1mtrain:\u001b[0m /content/drive/MyDrive/Datasets/knee-osteoarthritis-classification/Knee Osteoarthritis Classification/train... found 3780 images in 3 classes ✅ \n",
            "\u001b[34m\u001b[1mval:\u001b[0m /content/drive/MyDrive/Datasets/knee-osteoarthritis-classification/Knee Osteoarthritis Classification/val... found 1080 images in 3 classes ✅ \n",
            "\u001b[34m\u001b[1mtest:\u001b[0m /content/drive/MyDrive/Datasets/knee-osteoarthritis-classification/Knee Osteoarthritis Classification/test... found 540 images in 3 classes ✅ \n",
            "Overriding model.yaml nc=1000 with nc=3\n",
            "\n",
            "                   from  n    params  module                                       arguments                     \n",
            "  0                  -1  1       928  ultralytics.nn.modules.conv.Conv             [3, 32, 3, 2]                 \n",
            "  1                  -1  1     18560  ultralytics.nn.modules.conv.Conv             [32, 64, 3, 2]                \n",
            "  2                  -1  1     29056  ultralytics.nn.modules.block.C2f             [64, 64, 1, True]             \n",
            "  3                  -1  1     73984  ultralytics.nn.modules.conv.Conv             [64, 128, 3, 2]               \n",
            "  4                  -1  2    197632  ultralytics.nn.modules.block.C2f             [128, 128, 2, True]           \n",
            "  5                  -1  1    295424  ultralytics.nn.modules.conv.Conv             [128, 256, 3, 2]              \n",
            "  6                  -1  2    788480  ultralytics.nn.modules.block.C2f             [256, 256, 2, True]           \n",
            "  7                  -1  1   1180672  ultralytics.nn.modules.conv.Conv             [256, 512, 3, 2]              \n",
            "  8                  -1  1   1838080  ultralytics.nn.modules.block.C2f             [512, 512, 1, True]           \n",
            "  9                  -1  1    661763  ultralytics.nn.modules.head.Classify         [512, 3]                      \n",
            "YOLOv8s-cls summary: 56 layers, 5,084,579 parameters, 5,084,579 gradients, 12.6 GFLOPs\n",
            "Transferred 156/158 items from pretrained weights\n",
            "\u001b[34m\u001b[1mTensorBoard: \u001b[0mStart with 'tensorboard --logdir runs/classify/train', view at http://localhost:6006/\n",
            "\u001b[34m\u001b[1mAMP: \u001b[0mrunning Automatic Mixed Precision (AMP) checks...\n",
            "Downloading https://github.com/ultralytics/assets/releases/download/v8.3.0/yolo11n.pt to 'yolo11n.pt'...\n"
          ]
        },
        {
          "output_type": "stream",
          "name": "stderr",
          "text": [
            "100%|██████████| 5.35M/5.35M [00:00<00:00, 130MB/s]\n"
          ]
        },
        {
          "output_type": "stream",
          "name": "stdout",
          "text": [
            "\u001b[34m\u001b[1mAMP: \u001b[0mchecks passed ✅\n"
          ]
        },
        {
          "output_type": "stream",
          "name": "stderr",
          "text": [
            "\u001b[34m\u001b[1mtrain: \u001b[0mScanning /content/drive/MyDrive/Datasets/knee-osteoarthritis-classification/Knee Osteoarthritis Classification/train... 3780 images, 0 corrupt: 100%|██████████| 3780/3780 [00:00<?, ?it/s]\n",
            "\u001b[34m\u001b[1mval: \u001b[0mScanning /content/drive/MyDrive/Datasets/knee-osteoarthritis-classification/Knee Osteoarthritis Classification/val... 1080 images, 0 corrupt: 100%|██████████| 1080/1080 [00:00<?, ?it/s]\n"
          ]
        },
        {
          "output_type": "stream",
          "name": "stdout",
          "text": [
            "\u001b[34m\u001b[1moptimizer:\u001b[0m AdamW(lr=0.001, momentum=0.937) with parameter groups 26 weight(decay=0.0), 27 weight(decay=0.0001), 27 bias(decay=0.0)\n",
            "\u001b[34m\u001b[1mTensorBoard: \u001b[0mmodel graph visualization added ✅\n",
            "Image sizes 224 train, 224 val\n",
            "Using 2 dataloader workers\n",
            "Logging results to \u001b[1mruns/classify/train\u001b[0m\n",
            "Starting training for 25 epochs...\n",
            "\n",
            "      Epoch    GPU_mem       loss  Instances       Size\n"
          ]
        },
        {
          "output_type": "stream",
          "name": "stderr",
          "text": [
            "       1/25       1.3G      1.158         64        224:   3%|▎         | 2/60 [00:23<09:34,  9.90s/it]"
          ]
        },
        {
          "output_type": "stream",
          "name": "stdout",
          "text": [
            "Downloading https://ultralytics.com/assets/Arial.ttf to '/root/.config/Ultralytics/Arial.ttf'...\n"
          ]
        },
        {
          "output_type": "stream",
          "name": "stderr",
          "text": [
            "\n",
            "100%|██████████| 755k/755k [00:00<00:00, 22.5MB/s]\n",
            "       1/25      1.31G     0.8567          4        224: 100%|██████████| 60/60 [11:02<00:00, 11.04s/it]\n",
            "               classes   top1_acc   top5_acc: 100%|██████████| 9/9 [01:04<00:00,  7.16s/it]"
          ]
        },
        {
          "output_type": "stream",
          "name": "stdout",
          "text": [
            "                   all      0.635          1\n"
          ]
        },
        {
          "output_type": "stream",
          "name": "stderr",
          "text": [
            "\n"
          ]
        },
        {
          "output_type": "stream",
          "name": "stdout",
          "text": [
            "\n",
            "      Epoch    GPU_mem       loss  Instances       Size\n"
          ]
        },
        {
          "output_type": "stream",
          "name": "stderr",
          "text": [
            "       2/25      1.39G     0.7729          4        224: 100%|██████████| 60/60 [00:32<00:00,  1.83it/s]\n",
            "               classes   top1_acc   top5_acc: 100%|██████████| 9/9 [00:05<00:00,  1.59it/s]"
          ]
        },
        {
          "output_type": "stream",
          "name": "stdout",
          "text": [
            "                   all      0.647          1\n"
          ]
        },
        {
          "output_type": "stream",
          "name": "stderr",
          "text": [
            "\n"
          ]
        },
        {
          "output_type": "stream",
          "name": "stdout",
          "text": [
            "\n",
            "      Epoch    GPU_mem       loss  Instances       Size\n"
          ]
        },
        {
          "output_type": "stream",
          "name": "stderr",
          "text": [
            "       3/25      1.36G     0.7302          4        224: 100%|██████████| 60/60 [00:33<00:00,  1.78it/s]\n",
            "               classes   top1_acc   top5_acc: 100%|██████████| 9/9 [00:05<00:00,  1.68it/s]"
          ]
        },
        {
          "output_type": "stream",
          "name": "stdout",
          "text": [
            "                   all      0.614          1\n"
          ]
        },
        {
          "output_type": "stream",
          "name": "stderr",
          "text": [
            "\n"
          ]
        },
        {
          "output_type": "stream",
          "name": "stdout",
          "text": [
            "\n",
            "      Epoch    GPU_mem       loss  Instances       Size\n"
          ]
        },
        {
          "output_type": "stream",
          "name": "stderr",
          "text": [
            "       4/25      1.39G     0.7284          4        224: 100%|██████████| 60/60 [00:33<00:00,  1.77it/s]\n",
            "               classes   top1_acc   top5_acc: 100%|██████████| 9/9 [00:05<00:00,  1.64it/s]"
          ]
        },
        {
          "output_type": "stream",
          "name": "stdout",
          "text": [
            "                   all      0.654          1\n"
          ]
        },
        {
          "output_type": "stream",
          "name": "stderr",
          "text": [
            "\n"
          ]
        },
        {
          "output_type": "stream",
          "name": "stdout",
          "text": [
            "\n",
            "      Epoch    GPU_mem       loss  Instances       Size\n"
          ]
        },
        {
          "output_type": "stream",
          "name": "stderr",
          "text": [
            "       5/25      1.39G     0.7233          4        224: 100%|██████████| 60/60 [00:33<00:00,  1.78it/s]\n",
            "               classes   top1_acc   top5_acc: 100%|██████████| 9/9 [00:05<00:00,  1.74it/s]"
          ]
        },
        {
          "output_type": "stream",
          "name": "stdout",
          "text": [
            "                   all      0.526          1\n"
          ]
        },
        {
          "output_type": "stream",
          "name": "stderr",
          "text": [
            "\n"
          ]
        },
        {
          "output_type": "stream",
          "name": "stdout",
          "text": [
            "\n",
            "      Epoch    GPU_mem       loss  Instances       Size\n"
          ]
        },
        {
          "output_type": "stream",
          "name": "stderr",
          "text": [
            "       6/25      1.38G     0.7155          4        224: 100%|██████████| 60/60 [00:37<00:00,  1.58it/s]\n",
            "               classes   top1_acc   top5_acc: 100%|██████████| 9/9 [00:06<00:00,  1.45it/s]"
          ]
        },
        {
          "output_type": "stream",
          "name": "stdout",
          "text": [
            "                   all      0.677          1\n"
          ]
        },
        {
          "output_type": "stream",
          "name": "stderr",
          "text": [
            "\n"
          ]
        },
        {
          "output_type": "stream",
          "name": "stdout",
          "text": [
            "\n",
            "      Epoch    GPU_mem       loss  Instances       Size\n"
          ]
        },
        {
          "output_type": "stream",
          "name": "stderr",
          "text": [
            "       7/25      1.38G     0.6742          4        224: 100%|██████████| 60/60 [00:34<00:00,  1.75it/s]\n",
            "               classes   top1_acc   top5_acc: 100%|██████████| 9/9 [00:06<00:00,  1.39it/s]"
          ]
        },
        {
          "output_type": "stream",
          "name": "stdout",
          "text": [
            "                   all      0.718          1\n"
          ]
        },
        {
          "output_type": "stream",
          "name": "stderr",
          "text": [
            "\n"
          ]
        },
        {
          "output_type": "stream",
          "name": "stdout",
          "text": [
            "\n",
            "      Epoch    GPU_mem       loss  Instances       Size\n"
          ]
        },
        {
          "output_type": "stream",
          "name": "stderr",
          "text": [
            "       8/25      1.38G     0.6456          4        224: 100%|██████████| 60/60 [00:35<00:00,  1.67it/s]\n",
            "               classes   top1_acc   top5_acc: 100%|██████████| 9/9 [00:05<00:00,  1.54it/s]"
          ]
        },
        {
          "output_type": "stream",
          "name": "stdout",
          "text": [
            "                   all      0.667          1\n"
          ]
        },
        {
          "output_type": "stream",
          "name": "stderr",
          "text": [
            "\n"
          ]
        },
        {
          "output_type": "stream",
          "name": "stdout",
          "text": [
            "\n",
            "      Epoch    GPU_mem       loss  Instances       Size\n"
          ]
        },
        {
          "output_type": "stream",
          "name": "stderr",
          "text": [
            "       9/25      1.36G     0.6215          4        224: 100%|██████████| 60/60 [00:35<00:00,  1.68it/s]\n",
            "               classes   top1_acc   top5_acc: 100%|██████████| 9/9 [00:05<00:00,  1.60it/s]"
          ]
        },
        {
          "output_type": "stream",
          "name": "stdout",
          "text": [
            "                   all      0.671          1\n"
          ]
        },
        {
          "output_type": "stream",
          "name": "stderr",
          "text": [
            "\n"
          ]
        },
        {
          "output_type": "stream",
          "name": "stdout",
          "text": [
            "\n",
            "      Epoch    GPU_mem       loss  Instances       Size\n"
          ]
        },
        {
          "output_type": "stream",
          "name": "stderr",
          "text": [
            "      10/25      1.38G      0.614          4        224: 100%|██████████| 60/60 [00:36<00:00,  1.64it/s]\n",
            "               classes   top1_acc   top5_acc: 100%|██████████| 9/9 [00:04<00:00,  1.84it/s]"
          ]
        },
        {
          "output_type": "stream",
          "name": "stdout",
          "text": [
            "                   all      0.753          1\n"
          ]
        },
        {
          "output_type": "stream",
          "name": "stderr",
          "text": [
            "\n"
          ]
        },
        {
          "output_type": "stream",
          "name": "stdout",
          "text": [
            "\n",
            "      Epoch    GPU_mem       loss  Instances       Size\n"
          ]
        },
        {
          "output_type": "stream",
          "name": "stderr",
          "text": [
            "      11/25      1.34G     0.5701          4        224: 100%|██████████| 60/60 [00:35<00:00,  1.67it/s]\n",
            "               classes   top1_acc   top5_acc: 100%|██████████| 9/9 [00:05<00:00,  1.69it/s]"
          ]
        },
        {
          "output_type": "stream",
          "name": "stdout",
          "text": [
            "                   all      0.748          1\n"
          ]
        },
        {
          "output_type": "stream",
          "name": "stderr",
          "text": [
            "\n"
          ]
        },
        {
          "output_type": "stream",
          "name": "stdout",
          "text": [
            "\n",
            "      Epoch    GPU_mem       loss  Instances       Size\n"
          ]
        },
        {
          "output_type": "stream",
          "name": "stderr",
          "text": [
            "      12/25      1.38G     0.5824          4        224: 100%|██████████| 60/60 [00:37<00:00,  1.60it/s]\n",
            "               classes   top1_acc   top5_acc: 100%|██████████| 9/9 [00:04<00:00,  1.94it/s]"
          ]
        },
        {
          "output_type": "stream",
          "name": "stdout",
          "text": [
            "                   all      0.741          1\n"
          ]
        },
        {
          "output_type": "stream",
          "name": "stderr",
          "text": [
            "\n"
          ]
        },
        {
          "output_type": "stream",
          "name": "stdout",
          "text": [
            "\n",
            "      Epoch    GPU_mem       loss  Instances       Size\n"
          ]
        },
        {
          "output_type": "stream",
          "name": "stderr",
          "text": [
            "      13/25      1.39G     0.5631          4        224: 100%|██████████| 60/60 [00:35<00:00,  1.69it/s]\n",
            "               classes   top1_acc   top5_acc: 100%|██████████| 9/9 [00:04<00:00,  1.90it/s]"
          ]
        },
        {
          "output_type": "stream",
          "name": "stdout",
          "text": [
            "                   all      0.688          1\n"
          ]
        },
        {
          "output_type": "stream",
          "name": "stderr",
          "text": [
            "\n"
          ]
        },
        {
          "output_type": "stream",
          "name": "stdout",
          "text": [
            "\n",
            "      Epoch    GPU_mem       loss  Instances       Size\n"
          ]
        },
        {
          "output_type": "stream",
          "name": "stderr",
          "text": [
            "      14/25      1.38G     0.5184          4        224: 100%|██████████| 60/60 [00:35<00:00,  1.70it/s]\n",
            "               classes   top1_acc   top5_acc: 100%|██████████| 9/9 [00:04<00:00,  1.88it/s]"
          ]
        },
        {
          "output_type": "stream",
          "name": "stdout",
          "text": [
            "                   all      0.754          1\n"
          ]
        },
        {
          "output_type": "stream",
          "name": "stderr",
          "text": [
            "\n"
          ]
        },
        {
          "output_type": "stream",
          "name": "stdout",
          "text": [
            "\n",
            "      Epoch    GPU_mem       loss  Instances       Size\n"
          ]
        },
        {
          "output_type": "stream",
          "name": "stderr",
          "text": [
            "      15/25      1.36G     0.5029          4        224: 100%|██████████| 60/60 [00:35<00:00,  1.70it/s]\n",
            "               classes   top1_acc   top5_acc: 100%|██████████| 9/9 [00:04<00:00,  1.95it/s]"
          ]
        },
        {
          "output_type": "stream",
          "name": "stdout",
          "text": [
            "                   all      0.769          1\n"
          ]
        },
        {
          "output_type": "stream",
          "name": "stderr",
          "text": [
            "\n"
          ]
        },
        {
          "output_type": "stream",
          "name": "stdout",
          "text": [
            "\n",
            "      Epoch    GPU_mem       loss  Instances       Size\n"
          ]
        },
        {
          "output_type": "stream",
          "name": "stderr",
          "text": [
            "      16/25      1.38G     0.5285          4        224: 100%|██████████| 60/60 [00:36<00:00,  1.66it/s]\n",
            "               classes   top1_acc   top5_acc: 100%|██████████| 9/9 [00:04<00:00,  1.87it/s]"
          ]
        },
        {
          "output_type": "stream",
          "name": "stdout",
          "text": [
            "                   all      0.735          1\n"
          ]
        },
        {
          "output_type": "stream",
          "name": "stderr",
          "text": [
            "\n"
          ]
        },
        {
          "output_type": "stream",
          "name": "stdout",
          "text": [
            "\n",
            "      Epoch    GPU_mem       loss  Instances       Size\n"
          ]
        },
        {
          "output_type": "stream",
          "name": "stderr",
          "text": [
            "      17/25      1.34G     0.4927          4        224: 100%|██████████| 60/60 [00:32<00:00,  1.82it/s]\n",
            "               classes   top1_acc   top5_acc: 100%|██████████| 9/9 [00:05<00:00,  1.69it/s]"
          ]
        },
        {
          "output_type": "stream",
          "name": "stdout",
          "text": [
            "                   all      0.769          1\n"
          ]
        },
        {
          "output_type": "stream",
          "name": "stderr",
          "text": [
            "\n"
          ]
        },
        {
          "output_type": "stream",
          "name": "stdout",
          "text": [
            "\n",
            "      Epoch    GPU_mem       loss  Instances       Size\n"
          ]
        },
        {
          "output_type": "stream",
          "name": "stderr",
          "text": [
            "      18/25      1.38G      0.457          4        224: 100%|██████████| 60/60 [00:36<00:00,  1.66it/s]\n",
            "               classes   top1_acc   top5_acc: 100%|██████████| 9/9 [00:05<00:00,  1.63it/s]"
          ]
        },
        {
          "output_type": "stream",
          "name": "stdout",
          "text": [
            "                   all      0.764          1\n"
          ]
        },
        {
          "output_type": "stream",
          "name": "stderr",
          "text": [
            "\n"
          ]
        },
        {
          "output_type": "stream",
          "name": "stdout",
          "text": [
            "\n",
            "      Epoch    GPU_mem       loss  Instances       Size\n"
          ]
        },
        {
          "output_type": "stream",
          "name": "stderr",
          "text": [
            "      19/25      1.39G     0.4373          4        224: 100%|██████████| 60/60 [00:33<00:00,  1.77it/s]\n",
            "               classes   top1_acc   top5_acc: 100%|██████████| 9/9 [00:05<00:00,  1.59it/s]"
          ]
        },
        {
          "output_type": "stream",
          "name": "stdout",
          "text": [
            "                   all      0.758          1\n"
          ]
        },
        {
          "output_type": "stream",
          "name": "stderr",
          "text": [
            "\n"
          ]
        },
        {
          "output_type": "stream",
          "name": "stdout",
          "text": [
            "\n",
            "      Epoch    GPU_mem       loss  Instances       Size\n"
          ]
        },
        {
          "output_type": "stream",
          "name": "stderr",
          "text": [
            "      20/25      1.38G     0.4389          4        224: 100%|██████████| 60/60 [00:32<00:00,  1.85it/s]\n",
            "               classes   top1_acc   top5_acc: 100%|██████████| 9/9 [00:05<00:00,  1.66it/s]"
          ]
        },
        {
          "output_type": "stream",
          "name": "stdout",
          "text": [
            "                   all      0.771          1\n"
          ]
        },
        {
          "output_type": "stream",
          "name": "stderr",
          "text": [
            "\n"
          ]
        },
        {
          "output_type": "stream",
          "name": "stdout",
          "text": [
            "\n",
            "      Epoch    GPU_mem       loss  Instances       Size\n"
          ]
        },
        {
          "output_type": "stream",
          "name": "stderr",
          "text": [
            "      21/25      1.36G     0.4023          4        224: 100%|██████████| 60/60 [00:32<00:00,  1.83it/s]\n",
            "               classes   top1_acc   top5_acc: 100%|██████████| 9/9 [00:05<00:00,  1.75it/s]"
          ]
        },
        {
          "output_type": "stream",
          "name": "stdout",
          "text": [
            "                   all      0.779          1\n"
          ]
        },
        {
          "output_type": "stream",
          "name": "stderr",
          "text": [
            "\n"
          ]
        },
        {
          "output_type": "stream",
          "name": "stdout",
          "text": [
            "\n",
            "      Epoch    GPU_mem       loss  Instances       Size\n"
          ]
        },
        {
          "output_type": "stream",
          "name": "stderr",
          "text": [
            "      22/25      1.38G     0.3978          4        224: 100%|██████████| 60/60 [00:32<00:00,  1.85it/s]\n",
            "               classes   top1_acc   top5_acc: 100%|██████████| 9/9 [00:05<00:00,  1.78it/s]"
          ]
        },
        {
          "output_type": "stream",
          "name": "stdout",
          "text": [
            "                   all      0.781          1\n"
          ]
        },
        {
          "output_type": "stream",
          "name": "stderr",
          "text": [
            "\n"
          ]
        },
        {
          "output_type": "stream",
          "name": "stdout",
          "text": [
            "\n",
            "      Epoch    GPU_mem       loss  Instances       Size\n"
          ]
        },
        {
          "output_type": "stream",
          "name": "stderr",
          "text": [
            "      23/25      1.34G     0.4048          4        224: 100%|██████████| 60/60 [00:33<00:00,  1.78it/s]\n",
            "               classes   top1_acc   top5_acc: 100%|██████████| 9/9 [00:05<00:00,  1.75it/s]"
          ]
        },
        {
          "output_type": "stream",
          "name": "stdout",
          "text": [
            "                   all      0.783          1\n"
          ]
        },
        {
          "output_type": "stream",
          "name": "stderr",
          "text": [
            "\n"
          ]
        },
        {
          "output_type": "stream",
          "name": "stdout",
          "text": [
            "\n",
            "      Epoch    GPU_mem       loss  Instances       Size\n"
          ]
        },
        {
          "output_type": "stream",
          "name": "stderr",
          "text": [
            "      24/25      1.38G     0.3702          4        224: 100%|██████████| 60/60 [00:36<00:00,  1.65it/s]\n",
            "               classes   top1_acc   top5_acc: 100%|██████████| 9/9 [00:05<00:00,  1.74it/s]"
          ]
        },
        {
          "output_type": "stream",
          "name": "stdout",
          "text": [
            "                   all      0.791          1\n"
          ]
        },
        {
          "output_type": "stream",
          "name": "stderr",
          "text": [
            "\n"
          ]
        },
        {
          "output_type": "stream",
          "name": "stdout",
          "text": [
            "\n",
            "      Epoch    GPU_mem       loss  Instances       Size\n"
          ]
        },
        {
          "output_type": "stream",
          "name": "stderr",
          "text": [
            "      25/25      1.39G     0.3557          4        224: 100%|██████████| 60/60 [00:32<00:00,  1.84it/s]\n",
            "               classes   top1_acc   top5_acc: 100%|██████████| 9/9 [00:05<00:00,  1.65it/s]"
          ]
        },
        {
          "output_type": "stream",
          "name": "stdout",
          "text": [
            "                   all      0.802          1\n"
          ]
        },
        {
          "output_type": "stream",
          "name": "stderr",
          "text": [
            "\n"
          ]
        },
        {
          "output_type": "stream",
          "name": "stdout",
          "text": [
            "\n",
            "25 epochs completed in 0.478 hours.\n",
            "Optimizer stripped from runs/classify/train/weights/last.pt, 10.3MB\n",
            "Optimizer stripped from runs/classify/train/weights/best.pt, 10.3MB\n",
            "\n",
            "Validating runs/classify/train/weights/best.pt...\n",
            "Ultralytics 8.3.78 🚀 Python-3.11.11 torch-2.5.1+cu124 CUDA:0 (Tesla T4, 15095MiB)\n",
            "YOLOv8s-cls summary (fused): 30 layers, 5,079,043 parameters, 0 gradients, 12.5 GFLOPs\n",
            "\u001b[34m\u001b[1mtrain:\u001b[0m /content/drive/MyDrive/Datasets/knee-osteoarthritis-classification/Knee Osteoarthritis Classification/train... found 3780 images in 3 classes ✅ \n",
            "\u001b[34m\u001b[1mval:\u001b[0m /content/drive/MyDrive/Datasets/knee-osteoarthritis-classification/Knee Osteoarthritis Classification/val... found 1080 images in 3 classes ✅ \n",
            "\u001b[34m\u001b[1mtest:\u001b[0m /content/drive/MyDrive/Datasets/knee-osteoarthritis-classification/Knee Osteoarthritis Classification/test... found 540 images in 3 classes ✅ \n"
          ]
        },
        {
          "output_type": "stream",
          "name": "stderr",
          "text": [
            "\r               classes   top1_acc   top5_acc:   0%|          | 0/9 [00:00<?, ?it/s]"
          ]
        },
        {
          "output_type": "stream",
          "name": "stdout",
          "text": [
            "WARNING ⚠️ ClassificationModel does not support 'augment=True' prediction. Reverting to single-scale prediction.\n",
            "WARNING ⚠️ ClassificationModel does not support 'augment=True' prediction. Reverting to single-scale prediction.\n"
          ]
        },
        {
          "output_type": "stream",
          "name": "stderr",
          "text": [
            "\r               classes   top1_acc   top5_acc:  22%|██▏       | 2/9 [00:00<00:03,  2.08it/s]"
          ]
        },
        {
          "output_type": "stream",
          "name": "stdout",
          "text": [
            "WARNING ⚠️ ClassificationModel does not support 'augment=True' prediction. Reverting to single-scale prediction.\n"
          ]
        },
        {
          "output_type": "stream",
          "name": "stderr",
          "text": [
            "\r               classes   top1_acc   top5_acc:  33%|███▎      | 3/9 [00:01<00:04,  1.48it/s]"
          ]
        },
        {
          "output_type": "stream",
          "name": "stdout",
          "text": [
            "WARNING ⚠️ ClassificationModel does not support 'augment=True' prediction. Reverting to single-scale prediction.\n"
          ]
        },
        {
          "output_type": "stream",
          "name": "stderr",
          "text": [
            "\r               classes   top1_acc   top5_acc:  44%|████▍     | 4/9 [00:02<00:03,  1.39it/s]"
          ]
        },
        {
          "output_type": "stream",
          "name": "stdout",
          "text": [
            "WARNING ⚠️ ClassificationModel does not support 'augment=True' prediction. Reverting to single-scale prediction.\n"
          ]
        },
        {
          "output_type": "stream",
          "name": "stderr",
          "text": [
            "\r               classes   top1_acc   top5_acc:  56%|█████▌    | 5/9 [00:03<00:03,  1.30it/s]"
          ]
        },
        {
          "output_type": "stream",
          "name": "stdout",
          "text": [
            "WARNING ⚠️ ClassificationModel does not support 'augment=True' prediction. Reverting to single-scale prediction.\n"
          ]
        },
        {
          "output_type": "stream",
          "name": "stderr",
          "text": [
            "\r               classes   top1_acc   top5_acc:  67%|██████▋   | 6/9 [00:04<00:02,  1.40it/s]"
          ]
        },
        {
          "output_type": "stream",
          "name": "stdout",
          "text": [
            "WARNING ⚠️ ClassificationModel does not support 'augment=True' prediction. Reverting to single-scale prediction.\n"
          ]
        },
        {
          "output_type": "stream",
          "name": "stderr",
          "text": [
            "\r               classes   top1_acc   top5_acc:  78%|███████▊  | 7/9 [00:05<00:01,  1.29it/s]"
          ]
        },
        {
          "output_type": "stream",
          "name": "stdout",
          "text": [
            "WARNING ⚠️ ClassificationModel does not support 'augment=True' prediction. Reverting to single-scale prediction.\n"
          ]
        },
        {
          "output_type": "stream",
          "name": "stderr",
          "text": [
            "\r               classes   top1_acc   top5_acc:  89%|████████▉ | 8/9 [00:05<00:00,  1.37it/s]"
          ]
        },
        {
          "output_type": "stream",
          "name": "stdout",
          "text": [
            "WARNING ⚠️ ClassificationModel does not support 'augment=True' prediction. Reverting to single-scale prediction.\n"
          ]
        },
        {
          "output_type": "stream",
          "name": "stderr",
          "text": [
            "\r               classes   top1_acc   top5_acc: 100%|██████████| 9/9 [00:05<00:00,  1.57it/s]\n"
          ]
        },
        {
          "output_type": "stream",
          "name": "stdout",
          "text": [
            "                   all      0.803          1\n",
            "Speed: 0.1ms preprocess, 0.4ms inference, 0.0ms loss, 0.0ms postprocess per image\n",
            "Results saved to \u001b[1mruns/classify/train\u001b[0m\n"
          ]
        },
        {
          "output_type": "execute_result",
          "data": {
            "text/plain": [
              "ultralytics.utils.metrics.ClassifyMetrics object with attributes:\n",
              "\n",
              "confusion_matrix: <ultralytics.utils.metrics.ConfusionMatrix object at 0x7e971a3add50>\n",
              "curves: []\n",
              "curves_results: []\n",
              "fitness: 0.9013888835906982\n",
              "keys: ['metrics/accuracy_top1', 'metrics/accuracy_top5']\n",
              "results_dict: {'metrics/accuracy_top1': 0.8027777671813965, 'metrics/accuracy_top5': 1.0, 'fitness': 0.9013888835906982}\n",
              "save_dir: PosixPath('runs/classify/train')\n",
              "speed: {'preprocess': 0.0757829768522916, 'inference': 0.3805532620373453, 'loss': 0.00011983240752939578, 'postprocess': 0.000366762037629087}\n",
              "task: 'classify'\n",
              "top1: 0.8027777671813965\n",
              "top5: 1.0"
            ]
          },
          "metadata": {},
          "execution_count": 4
        }
      ]
    },
    {
      "cell_type": "markdown",
      "source": [
        "#YOLOv8s Training"
      ],
      "metadata": {
        "id": "DdjH8kWmJjf1"
      }
    },
    {
      "cell_type": "code",
      "source": [],
      "metadata": {
        "id": "ZTLGeNxE7j4L"
      },
      "execution_count": null,
      "outputs": []
    },
    {
      "cell_type": "code",
      "source": [
        "import os\n",
        "import shutil\n",
        "import torch\n",
        "import kagglehub\n",
        "import albumentations as A\n",
        "import cv2\n",
        "import numpy as np\n",
        "from ultralytics import YOLO\n",
        "from torch.utils.data import Dataset, DataLoader\n",
        "from torchvision import transforms\n",
        "from PIL import Image\n",
        "import random\n",
        "\n",
        "# ----------------------------\n",
        "# ✅ 1. Download Dataset from Kaggle\n",
        "# ----------------------------\n",
        "# datasets_folder_path = \"/content/drive/My Drive/Datasets\"\n",
        "# knee_folder_path = os.path.join(datasets_folder_path, \"knee-osteoarthritis-classification\")\n",
        "\n",
        "# # Create directory if not exists\n",
        "# os.makedirs(knee_folder_path, exist_ok=True)\n",
        "\n",
        "# # Download dataset\n",
        "# path = kagglehub.dataset_download(\"fuyadhasanbhoyan/knee-osteoarthritis-classification-224224\")\n",
        "\n",
        "# # Move dataset to Drive\n",
        "# for filename in os.listdir(path):\n",
        "#     shutil.move(os.path.join(path, filename), os.path.join(knee_folder_path, filename))\n",
        "\n",
        "# print(\"✅ Dataset downloaded to:\", knee_folder_path)\n",
        "\n",
        "knee_folder_path = \"/content/drive/MyDrive/Datasets/knee-osteoarthritis-classification/Knee Osteoarthritis Classification\"\n",
        "# ----------------------------\n",
        "# ✅ 2. Data Preprocessing & Augmentation\n",
        "# ----------------------------\n",
        "class MedicalImageDataset(Dataset):\n",
        "    def __init__(self, root_dir, transform=None):\n",
        "        self.root_dir = root_dir\n",
        "        self.transform = transform\n",
        "        self.images = []\n",
        "        self.labels = []\n",
        "\n",
        "        # Map classes\n",
        "        self.class_names = os.listdir(root_dir)\n",
        "        self.class_to_idx = {cls: idx for idx, cls in enumerate(self.class_names)}\n",
        "\n",
        "        # Load images and labels\n",
        "        for cls in self.class_names:\n",
        "            class_path = os.path.join(root_dir, cls)\n",
        "            for img_name in os.listdir(class_path):\n",
        "                self.images.append(os.path.join(class_path, img_name))\n",
        "                self.labels.append(self.class_to_idx[cls])\n",
        "\n",
        "    def __len__(self):\n",
        "        return len(self.images)\n",
        "\n",
        "    def __getitem__(self, idx):\n",
        "        img_path = self.images[idx]\n",
        "        label = self.labels[idx]\n",
        "\n",
        "        # Load image\n",
        "        image = cv2.imread(img_path)\n",
        "        image = cv2.cvtColor(image, cv2.COLOR_BGR2RGB)  # Convert BGR to RGB\n",
        "\n",
        "        # Apply transformations\n",
        "        if self.transform:\n",
        "            augmented = self.transform(image=image)\n",
        "            image = augmented[\"image\"]\n",
        "\n",
        "        # Convert to tensor\n",
        "        image = transforms.ToTensor()(image)\n",
        "\n",
        "        return image, label\n",
        "\n",
        "\n",
        "# ✅ Define augmentations for medical imaging\n",
        "train_transforms = A.Compose([\n",
        "    A.Resize(224, 224),\n",
        "    A.HorizontalFlip(p=0.5),  # Flip images with 50% probability\n",
        "    A.Rotate(limit=20, p=0.5),  # Rotate by ±20 degrees\n",
        "    A.RandomBrightnessContrast(p=0.3),\n",
        "    A.Normalize(mean=(0.485, 0.456, 0.406), std=(0.229, 0.224, 0.225)),\n",
        "])\n",
        "\n",
        "val_transforms = A.Compose([\n",
        "    A.Resize(224, 224),\n",
        "    A.Normalize(mean=(0.485, 0.456, 0.406), std=(0.229, 0.224, 0.225)),\n",
        "])\n",
        "\n",
        "# ✅ Load datasets\n",
        "train_dataset = MedicalImageDataset(root_dir=os.path.join(knee_folder_path, \"train\"), transform=train_transforms)\n",
        "val_dataset = MedicalImageDataset(root_dir=os.path.join(knee_folder_path, \"val\"), transform=val_transforms)\n",
        "\n",
        "# ✅ DataLoader\n",
        "train_loader = DataLoader(train_dataset, batch_size=32, shuffle=True, num_workers=8)\n",
        "val_loader = DataLoader(val_dataset, batch_size=32, shuffle=False, num_workers=8)\n",
        "\n",
        "print(f\"✅ Loaded {len(train_dataset)} training images and {len(val_dataset)} validation images.\")\n",
        "\n",
        "\n",
        "# ----------------------------\n",
        "# ✅ 3. Load Pretrained YOLO & Unfreeze All Layers\n",
        "# ----------------------------\n",
        "model = YOLO(\"yolov8s-cls.pt\")  # Load YOLO classification model\n",
        "\n",
        "# ✅ Unfreeze all layers for **full fine-tuning**\n",
        "for param in model.model.parameters():\n",
        "    param.requires_grad = True\n",
        "\n",
        "print(\"✅ Unfrozen all YOLO layers for full fine-tuning!\")\n",
        "\n",
        "\n",
        "# ----------------------------\n",
        "# ✅ 4. Train YOLOv8 Classification Model with Advanced Hyperparameters\n",
        "# ----------------------------\n",
        "model.train(\n",
        "    data=knee_folder_path,  # Path to dataset\n",
        "    epochs=50,  # Increase for better convergence\n",
        "    imgsz=224,  # Image size\n",
        "    batch=32,  # Use 32 instead of 64 to avoid memory issues\n",
        "    workers=8,  # Increase workers for better loading\n",
        "    optimizer=\"AdamW\",  # Advanced optimizer for medical imaging\n",
        "    lr0=1e-4,  # Lower learning rate for fine-tuning\n",
        "    lrf=0.01,  # Learning rate factor\n",
        "    weight_decay=5e-4,  # Regularization\n",
        "    patience=10,  # Stop if no improvement for 10 epochs\n",
        "    augment=True,  # Enable augmentations\n",
        "    mixup=0.2,  # Mixup augmentation for medical images\n",
        "    dropout=0.2,  # Dropout for regularization\n",
        "    rect=True,  # Use rectangular training for better batch efficiency\n",
        "    cos_lr=True,  # Cosine learning rate decay\n",
        "    overlap_mask=True,  # Better feature learning\n",
        "    mask_ratio=4,\n",
        "    auto_augment=\"randaugment\",  # Auto augmentation\n",
        "    warmup_epochs=3.0,  # Gradual warmup for stable training\n",
        "    warmup_bias_lr=0.1,\n",
        "    flipud=0.1,  # Random vertical flip\n",
        "    fliplr=0.5,  # Random horizontal flip\n",
        "    scale=0.5,  # Random scale\n",
        "    translate=0.1,  # Random translation\n",
        "    momentum=0.937,  # Momentum tuning\n",
        "    hsv_h=0.015,  # Color augmentation\n",
        "    hsv_s=0.7,\n",
        "    hsv_v=0.4,\n",
        ")\n",
        "\n",
        "print(\"🚀 Training completed successfully!\")\n",
        "\n"
      ],
      "metadata": {
        "colab": {
          "base_uri": "https://localhost:8080/"
        },
        "id": "Um2uUT-a7j7k",
        "outputId": "a69d3f51-8f37-49c3-bc88-c16c59cdbb12"
      },
      "execution_count": 8,
      "outputs": [
        {
          "output_type": "stream",
          "name": "stdout",
          "text": [
            "✅ Loaded 3780 training images and 1080 validation images.\n",
            "✅ Unfrozen all YOLO layers for full fine-tuning!\n",
            "Ultralytics 8.3.78 🚀 Python-3.11.11 torch-2.5.1+cu124 CUDA:0 (Tesla T4, 15095MiB)\n",
            "\u001b[34m\u001b[1mengine/trainer: \u001b[0mtask=classify, mode=train, model=yolov8s-cls.pt, data=/content/drive/MyDrive/Datasets/knee-osteoarthritis-classification/Knee Osteoarthritis Classification, epochs=50, time=None, patience=10, batch=32, imgsz=224, save=True, save_period=-1, cache=False, device=None, workers=8, project=None, name=train2, exist_ok=False, pretrained=True, optimizer=AdamW, verbose=True, seed=0, deterministic=True, single_cls=False, rect=True, cos_lr=True, close_mosaic=10, resume=False, amp=True, fraction=1.0, profile=False, freeze=None, multi_scale=False, overlap_mask=True, mask_ratio=4, dropout=0.2, val=True, split=val, save_json=False, save_hybrid=False, conf=None, iou=0.7, max_det=300, half=False, dnn=False, plots=True, source=None, vid_stride=1, stream_buffer=False, visualize=False, augment=True, agnostic_nms=False, classes=None, retina_masks=False, embed=None, show=False, save_frames=False, save_txt=False, save_conf=False, save_crop=False, show_labels=True, show_conf=True, show_boxes=True, line_width=None, format=torchscript, keras=False, optimize=False, int8=False, dynamic=False, simplify=True, opset=None, workspace=None, nms=False, lr0=0.0001, lrf=0.01, momentum=0.937, weight_decay=0.0005, warmup_epochs=3.0, warmup_momentum=0.8, warmup_bias_lr=0.1, box=7.5, cls=0.5, dfl=1.5, pose=12.0, kobj=1.0, nbs=64, hsv_h=0.015, hsv_s=0.7, hsv_v=0.4, degrees=0.0, translate=0.1, scale=0.5, shear=0.0, perspective=0.0, flipud=0.1, fliplr=0.5, bgr=0.0, mosaic=1.0, mixup=0.2, copy_paste=0.0, copy_paste_mode=flip, auto_augment=randaugment, erasing=0.4, crop_fraction=1.0, cfg=None, tracker=botsort.yaml, save_dir=runs/classify/train2\n"
          ]
        },
        {
          "output_type": "stream",
          "name": "stderr",
          "text": [
            "/usr/local/lib/python3.11/dist-packages/torch/utils/data/dataloader.py:617: UserWarning: This DataLoader will create 8 worker processes in total. Our suggested max number of worker in current system is 2, which is smaller than what this DataLoader is going to create. Please be aware that excessive worker creation might get DataLoader running slow or even freeze, lower the worker number to avoid potential slowness/freeze if necessary.\n",
            "  warnings.warn(\n"
          ]
        },
        {
          "output_type": "stream",
          "name": "stdout",
          "text": [
            "\u001b[34m\u001b[1mtrain:\u001b[0m /content/drive/MyDrive/Datasets/knee-osteoarthritis-classification/Knee Osteoarthritis Classification/train... found 3780 images in 3 classes ✅ \n",
            "\u001b[34m\u001b[1mval:\u001b[0m /content/drive/MyDrive/Datasets/knee-osteoarthritis-classification/Knee Osteoarthritis Classification/val... found 1080 images in 3 classes ✅ \n",
            "\u001b[34m\u001b[1mtest:\u001b[0m /content/drive/MyDrive/Datasets/knee-osteoarthritis-classification/Knee Osteoarthritis Classification/test... found 540 images in 3 classes ✅ \n",
            "Overriding model.yaml nc=1000 with nc=3\n",
            "\n",
            "                   from  n    params  module                                       arguments                     \n",
            "  0                  -1  1       928  ultralytics.nn.modules.conv.Conv             [3, 32, 3, 2]                 \n",
            "  1                  -1  1     18560  ultralytics.nn.modules.conv.Conv             [32, 64, 3, 2]                \n",
            "  2                  -1  1     29056  ultralytics.nn.modules.block.C2f             [64, 64, 1, True]             \n",
            "  3                  -1  1     73984  ultralytics.nn.modules.conv.Conv             [64, 128, 3, 2]               \n",
            "  4                  -1  2    197632  ultralytics.nn.modules.block.C2f             [128, 128, 2, True]           \n",
            "  5                  -1  1    295424  ultralytics.nn.modules.conv.Conv             [128, 256, 3, 2]              \n",
            "  6                  -1  2    788480  ultralytics.nn.modules.block.C2f             [256, 256, 2, True]           \n",
            "  7                  -1  1   1180672  ultralytics.nn.modules.conv.Conv             [256, 512, 3, 2]              \n",
            "  8                  -1  1   1838080  ultralytics.nn.modules.block.C2f             [512, 512, 1, True]           \n",
            "  9                  -1  1    661763  ultralytics.nn.modules.head.Classify         [512, 3]                      \n",
            "YOLOv8s-cls summary: 56 layers, 5,084,579 parameters, 5,084,579 gradients, 12.6 GFLOPs\n",
            "Transferred 156/158 items from pretrained weights\n",
            "\u001b[34m\u001b[1mTensorBoard: \u001b[0mStart with 'tensorboard --logdir runs/classify/train2', view at http://localhost:6006/\n",
            "\u001b[34m\u001b[1mAMP: \u001b[0mrunning Automatic Mixed Precision (AMP) checks...\n",
            "\u001b[34m\u001b[1mAMP: \u001b[0mchecks passed ✅\n"
          ]
        },
        {
          "output_type": "stream",
          "name": "stderr",
          "text": [
            "\u001b[34m\u001b[1mtrain: \u001b[0mScanning /content/drive/MyDrive/Datasets/knee-osteoarthritis-classification/Knee Osteoarthritis Classification/train... 3780 images, 0 corrupt: 100%|██████████| 3780/3780 [00:00<?, ?it/s]\n",
            "\u001b[34m\u001b[1mval: \u001b[0mScanning /content/drive/MyDrive/Datasets/knee-osteoarthritis-classification/Knee Osteoarthritis Classification/val... 1080 images, 0 corrupt: 100%|██████████| 1080/1080 [00:00<?, ?it/s]\n"
          ]
        },
        {
          "output_type": "stream",
          "name": "stdout",
          "text": [
            "\u001b[34m\u001b[1moptimizer:\u001b[0m AdamW(lr=0.0001, momentum=0.937) with parameter groups 26 weight(decay=0.0), 27 weight(decay=0.0005), 27 bias(decay=0.0)\n",
            "\u001b[34m\u001b[1mTensorBoard: \u001b[0mmodel graph visualization added ✅\n",
            "Image sizes 224 train, 224 val\n",
            "Using 2 dataloader workers\n",
            "Logging results to \u001b[1mruns/classify/train2\u001b[0m\n",
            "Starting training for 50 epochs...\n",
            "\n",
            "      Epoch    GPU_mem       loss  Instances       Size\n"
          ]
        },
        {
          "output_type": "stream",
          "name": "stderr",
          "text": [
            "       1/50     0.779G     0.8778          4        224: 100%|██████████| 119/119 [00:39<00:00,  3.00it/s]\n",
            "               classes   top1_acc   top5_acc: 100%|██████████| 17/17 [00:05<00:00,  3.00it/s]"
          ]
        },
        {
          "output_type": "stream",
          "name": "stdout",
          "text": [
            "                   all      0.669          1\n"
          ]
        },
        {
          "output_type": "stream",
          "name": "stderr",
          "text": [
            "\n"
          ]
        },
        {
          "output_type": "stream",
          "name": "stdout",
          "text": [
            "\n",
            "      Epoch    GPU_mem       loss  Instances       Size\n"
          ]
        },
        {
          "output_type": "stream",
          "name": "stderr",
          "text": [
            "       2/50     0.734G      0.791          4        224: 100%|██████████| 119/119 [00:34<00:00,  3.40it/s]\n",
            "               classes   top1_acc   top5_acc: 100%|██████████| 17/17 [00:06<00:00,  2.77it/s]"
          ]
        },
        {
          "output_type": "stream",
          "name": "stdout",
          "text": [
            "                   all      0.644          1\n"
          ]
        },
        {
          "output_type": "stream",
          "name": "stderr",
          "text": [
            "\n"
          ]
        },
        {
          "output_type": "stream",
          "name": "stdout",
          "text": [
            "\n",
            "      Epoch    GPU_mem       loss  Instances       Size\n"
          ]
        },
        {
          "output_type": "stream",
          "name": "stderr",
          "text": [
            "       3/50      0.76G     0.7398          4        224: 100%|██████████| 119/119 [00:33<00:00,  3.50it/s]\n",
            "               classes   top1_acc   top5_acc: 100%|██████████| 17/17 [00:06<00:00,  2.57it/s]"
          ]
        },
        {
          "output_type": "stream",
          "name": "stdout",
          "text": [
            "                   all      0.694          1\n"
          ]
        },
        {
          "output_type": "stream",
          "name": "stderr",
          "text": [
            "\n"
          ]
        },
        {
          "output_type": "stream",
          "name": "stdout",
          "text": [
            "\n",
            "      Epoch    GPU_mem       loss  Instances       Size\n"
          ]
        },
        {
          "output_type": "stream",
          "name": "stderr",
          "text": [
            "       4/50     0.738G     0.7317          4        224: 100%|██████████| 119/119 [00:37<00:00,  3.17it/s]\n",
            "               classes   top1_acc   top5_acc: 100%|██████████| 17/17 [00:06<00:00,  2.58it/s]"
          ]
        },
        {
          "output_type": "stream",
          "name": "stdout",
          "text": [
            "                   all      0.662          1\n"
          ]
        },
        {
          "output_type": "stream",
          "name": "stderr",
          "text": [
            "\n"
          ]
        },
        {
          "output_type": "stream",
          "name": "stdout",
          "text": [
            "\n",
            "      Epoch    GPU_mem       loss  Instances       Size\n"
          ]
        },
        {
          "output_type": "stream",
          "name": "stderr",
          "text": [
            "       5/50      0.75G     0.7091          4        224: 100%|██████████| 119/119 [00:34<00:00,  3.48it/s]\n",
            "               classes   top1_acc   top5_acc: 100%|██████████| 17/17 [00:05<00:00,  2.88it/s]"
          ]
        },
        {
          "output_type": "stream",
          "name": "stdout",
          "text": [
            "                   all      0.705          1\n"
          ]
        },
        {
          "output_type": "stream",
          "name": "stderr",
          "text": [
            "\n"
          ]
        },
        {
          "output_type": "stream",
          "name": "stdout",
          "text": [
            "\n",
            "      Epoch    GPU_mem       loss  Instances       Size\n"
          ]
        },
        {
          "output_type": "stream",
          "name": "stderr",
          "text": [
            "       6/50     0.738G     0.6883          4        224: 100%|██████████| 119/119 [00:34<00:00,  3.45it/s]\n",
            "               classes   top1_acc   top5_acc: 100%|██████████| 17/17 [00:05<00:00,  3.03it/s]"
          ]
        },
        {
          "output_type": "stream",
          "name": "stdout",
          "text": [
            "                   all      0.683          1\n"
          ]
        },
        {
          "output_type": "stream",
          "name": "stderr",
          "text": [
            "\n"
          ]
        },
        {
          "output_type": "stream",
          "name": "stdout",
          "text": [
            "\n",
            "      Epoch    GPU_mem       loss  Instances       Size\n"
          ]
        },
        {
          "output_type": "stream",
          "name": "stderr",
          "text": [
            "       7/50     0.752G     0.6698          4        224: 100%|██████████| 119/119 [00:34<00:00,  3.44it/s]\n",
            "               classes   top1_acc   top5_acc: 100%|██████████| 17/17 [00:05<00:00,  3.00it/s]"
          ]
        },
        {
          "output_type": "stream",
          "name": "stdout",
          "text": [
            "                   all      0.661          1\n"
          ]
        },
        {
          "output_type": "stream",
          "name": "stderr",
          "text": [
            "\n"
          ]
        },
        {
          "output_type": "stream",
          "name": "stdout",
          "text": [
            "\n",
            "      Epoch    GPU_mem       loss  Instances       Size\n"
          ]
        },
        {
          "output_type": "stream",
          "name": "stderr",
          "text": [
            "       8/50     0.732G     0.6676          4        224: 100%|██████████| 119/119 [00:35<00:00,  3.39it/s]\n",
            "               classes   top1_acc   top5_acc: 100%|██████████| 17/17 [00:05<00:00,  3.09it/s]"
          ]
        },
        {
          "output_type": "stream",
          "name": "stdout",
          "text": [
            "                   all      0.692          1\n"
          ]
        },
        {
          "output_type": "stream",
          "name": "stderr",
          "text": [
            "\n"
          ]
        },
        {
          "output_type": "stream",
          "name": "stdout",
          "text": [
            "\n",
            "      Epoch    GPU_mem       loss  Instances       Size\n"
          ]
        },
        {
          "output_type": "stream",
          "name": "stderr",
          "text": [
            "       9/50      0.76G      0.651          4        224: 100%|██████████| 119/119 [00:34<00:00,  3.43it/s]\n",
            "               classes   top1_acc   top5_acc: 100%|██████████| 17/17 [00:05<00:00,  3.00it/s]"
          ]
        },
        {
          "output_type": "stream",
          "name": "stdout",
          "text": [
            "                   all      0.682          1\n"
          ]
        },
        {
          "output_type": "stream",
          "name": "stderr",
          "text": [
            "\n"
          ]
        },
        {
          "output_type": "stream",
          "name": "stdout",
          "text": [
            "\n",
            "      Epoch    GPU_mem       loss  Instances       Size\n"
          ]
        },
        {
          "output_type": "stream",
          "name": "stderr",
          "text": [
            "      10/50      0.74G     0.6482          4        224: 100%|██████████| 119/119 [00:37<00:00,  3.14it/s]\n",
            "               classes   top1_acc   top5_acc: 100%|██████████| 17/17 [00:06<00:00,  2.62it/s]"
          ]
        },
        {
          "output_type": "stream",
          "name": "stdout",
          "text": [
            "                   all      0.704          1\n"
          ]
        },
        {
          "output_type": "stream",
          "name": "stderr",
          "text": [
            "\n"
          ]
        },
        {
          "output_type": "stream",
          "name": "stdout",
          "text": [
            "\n",
            "      Epoch    GPU_mem       loss  Instances       Size\n"
          ]
        },
        {
          "output_type": "stream",
          "name": "stderr",
          "text": [
            "      11/50     0.752G     0.6297          4        224: 100%|██████████| 119/119 [00:33<00:00,  3.59it/s]\n",
            "               classes   top1_acc   top5_acc: 100%|██████████| 17/17 [00:06<00:00,  2.67it/s]"
          ]
        },
        {
          "output_type": "stream",
          "name": "stdout",
          "text": [
            "                   all      0.697          1\n"
          ]
        },
        {
          "output_type": "stream",
          "name": "stderr",
          "text": [
            "\n"
          ]
        },
        {
          "output_type": "stream",
          "name": "stdout",
          "text": [
            "\n",
            "      Epoch    GPU_mem       loss  Instances       Size\n"
          ]
        },
        {
          "output_type": "stream",
          "name": "stderr",
          "text": [
            "      12/50     0.729G     0.6344          4        224: 100%|██████████| 119/119 [00:34<00:00,  3.42it/s]\n",
            "               classes   top1_acc   top5_acc: 100%|██████████| 17/17 [00:06<00:00,  2.50it/s]"
          ]
        },
        {
          "output_type": "stream",
          "name": "stdout",
          "text": [
            "                   all      0.703          1\n"
          ]
        },
        {
          "output_type": "stream",
          "name": "stderr",
          "text": [
            "\n"
          ]
        },
        {
          "output_type": "stream",
          "name": "stdout",
          "text": [
            "\n",
            "      Epoch    GPU_mem       loss  Instances       Size\n"
          ]
        },
        {
          "output_type": "stream",
          "name": "stderr",
          "text": [
            "      13/50     0.752G     0.6124          4        224: 100%|██████████| 119/119 [00:35<00:00,  3.37it/s]\n",
            "               classes   top1_acc   top5_acc: 100%|██████████| 17/17 [00:05<00:00,  3.02it/s]"
          ]
        },
        {
          "output_type": "stream",
          "name": "stdout",
          "text": [
            "                   all      0.694          1\n"
          ]
        },
        {
          "output_type": "stream",
          "name": "stderr",
          "text": [
            "\n"
          ]
        },
        {
          "output_type": "stream",
          "name": "stdout",
          "text": [
            "\n",
            "      Epoch    GPU_mem       loss  Instances       Size\n"
          ]
        },
        {
          "output_type": "stream",
          "name": "stderr",
          "text": [
            "      14/50     0.738G      0.607          4        224: 100%|██████████| 119/119 [00:35<00:00,  3.34it/s]\n",
            "               classes   top1_acc   top5_acc: 100%|██████████| 17/17 [00:05<00:00,  3.01it/s]"
          ]
        },
        {
          "output_type": "stream",
          "name": "stdout",
          "text": [
            "                   all      0.718          1\n"
          ]
        },
        {
          "output_type": "stream",
          "name": "stderr",
          "text": [
            "\n"
          ]
        },
        {
          "output_type": "stream",
          "name": "stdout",
          "text": [
            "\n",
            "      Epoch    GPU_mem       loss  Instances       Size\n"
          ]
        },
        {
          "output_type": "stream",
          "name": "stderr",
          "text": [
            "      15/50     0.752G     0.6184          4        224: 100%|██████████| 119/119 [00:36<00:00,  3.30it/s]\n",
            "               classes   top1_acc   top5_acc: 100%|██████████| 17/17 [00:07<00:00,  2.41it/s]"
          ]
        },
        {
          "output_type": "stream",
          "name": "stdout",
          "text": [
            "                   all       0.71          1\n"
          ]
        },
        {
          "output_type": "stream",
          "name": "stderr",
          "text": [
            "\n"
          ]
        },
        {
          "output_type": "stream",
          "name": "stdout",
          "text": [
            "\n",
            "      Epoch    GPU_mem       loss  Instances       Size\n"
          ]
        },
        {
          "output_type": "stream",
          "name": "stderr",
          "text": [
            "      16/50     0.732G     0.5733          4        224: 100%|██████████| 119/119 [00:36<00:00,  3.28it/s]\n",
            "               classes   top1_acc   top5_acc: 100%|██████████| 17/17 [00:06<00:00,  2.45it/s]"
          ]
        },
        {
          "output_type": "stream",
          "name": "stdout",
          "text": [
            "                   all      0.727          1\n"
          ]
        },
        {
          "output_type": "stream",
          "name": "stderr",
          "text": [
            "\n"
          ]
        },
        {
          "output_type": "stream",
          "name": "stdout",
          "text": [
            "\n",
            "      Epoch    GPU_mem       loss  Instances       Size\n"
          ]
        },
        {
          "output_type": "stream",
          "name": "stderr",
          "text": [
            "      17/50      0.76G     0.5827          4        224: 100%|██████████| 119/119 [00:35<00:00,  3.32it/s]\n",
            "               classes   top1_acc   top5_acc: 100%|██████████| 17/17 [00:06<00:00,  2.51it/s]"
          ]
        },
        {
          "output_type": "stream",
          "name": "stdout",
          "text": [
            "                   all      0.728          1\n"
          ]
        },
        {
          "output_type": "stream",
          "name": "stderr",
          "text": [
            "\n"
          ]
        },
        {
          "output_type": "stream",
          "name": "stdout",
          "text": [
            "\n",
            "      Epoch    GPU_mem       loss  Instances       Size\n"
          ]
        },
        {
          "output_type": "stream",
          "name": "stderr",
          "text": [
            "      18/50     0.738G     0.5753          4        224: 100%|██████████| 119/119 [00:37<00:00,  3.21it/s]\n",
            "               classes   top1_acc   top5_acc: 100%|██████████| 17/17 [00:05<00:00,  2.90it/s]"
          ]
        },
        {
          "output_type": "stream",
          "name": "stdout",
          "text": [
            "                   all      0.746          1\n"
          ]
        },
        {
          "output_type": "stream",
          "name": "stderr",
          "text": [
            "\n"
          ]
        },
        {
          "output_type": "stream",
          "name": "stdout",
          "text": [
            "\n",
            "      Epoch    GPU_mem       loss  Instances       Size\n"
          ]
        },
        {
          "output_type": "stream",
          "name": "stderr",
          "text": [
            "      19/50     0.752G     0.5699          4        224: 100%|██████████| 119/119 [00:35<00:00,  3.33it/s]\n",
            "               classes   top1_acc   top5_acc: 100%|██████████| 17/17 [00:05<00:00,  3.00it/s]"
          ]
        },
        {
          "output_type": "stream",
          "name": "stdout",
          "text": [
            "                   all      0.687          1\n"
          ]
        },
        {
          "output_type": "stream",
          "name": "stderr",
          "text": [
            "\n"
          ]
        },
        {
          "output_type": "stream",
          "name": "stdout",
          "text": [
            "\n",
            "      Epoch    GPU_mem       loss  Instances       Size\n"
          ]
        },
        {
          "output_type": "stream",
          "name": "stderr",
          "text": [
            "      20/50     0.727G     0.5543          4        224: 100%|██████████| 119/119 [00:36<00:00,  3.29it/s]\n",
            "               classes   top1_acc   top5_acc: 100%|██████████| 17/17 [00:05<00:00,  2.99it/s]"
          ]
        },
        {
          "output_type": "stream",
          "name": "stdout",
          "text": [
            "                   all      0.725          1\n"
          ]
        },
        {
          "output_type": "stream",
          "name": "stderr",
          "text": [
            "\n"
          ]
        },
        {
          "output_type": "stream",
          "name": "stdout",
          "text": [
            "\n",
            "      Epoch    GPU_mem       loss  Instances       Size\n"
          ]
        },
        {
          "output_type": "stream",
          "name": "stderr",
          "text": [
            "      21/50     0.752G     0.5531          4        224: 100%|██████████| 119/119 [00:39<00:00,  3.01it/s]\n",
            "               classes   top1_acc   top5_acc: 100%|██████████| 17/17 [00:06<00:00,  2.52it/s]"
          ]
        },
        {
          "output_type": "stream",
          "name": "stdout",
          "text": [
            "                   all      0.718          1\n"
          ]
        },
        {
          "output_type": "stream",
          "name": "stderr",
          "text": [
            "\n"
          ]
        },
        {
          "output_type": "stream",
          "name": "stdout",
          "text": [
            "\n",
            "      Epoch    GPU_mem       loss  Instances       Size\n"
          ]
        },
        {
          "output_type": "stream",
          "name": "stderr",
          "text": [
            "      22/50     0.738G     0.5502          4        224: 100%|██████████| 119/119 [00:35<00:00,  3.37it/s]\n",
            "               classes   top1_acc   top5_acc: 100%|██████████| 17/17 [00:06<00:00,  2.56it/s]"
          ]
        },
        {
          "output_type": "stream",
          "name": "stdout",
          "text": [
            "                   all      0.717          1\n"
          ]
        },
        {
          "output_type": "stream",
          "name": "stderr",
          "text": [
            "\n"
          ]
        },
        {
          "output_type": "stream",
          "name": "stdout",
          "text": [
            "\n",
            "      Epoch    GPU_mem       loss  Instances       Size\n"
          ]
        },
        {
          "output_type": "stream",
          "name": "stderr",
          "text": [
            "      23/50     0.752G     0.5301          4        224: 100%|██████████| 119/119 [00:36<00:00,  3.30it/s]\n",
            "               classes   top1_acc   top5_acc: 100%|██████████| 17/17 [00:05<00:00,  2.99it/s]"
          ]
        },
        {
          "output_type": "stream",
          "name": "stdout",
          "text": [
            "                   all      0.711          1\n"
          ]
        },
        {
          "output_type": "stream",
          "name": "stderr",
          "text": [
            "\n"
          ]
        },
        {
          "output_type": "stream",
          "name": "stdout",
          "text": [
            "\n",
            "      Epoch    GPU_mem       loss  Instances       Size\n"
          ]
        },
        {
          "output_type": "stream",
          "name": "stderr",
          "text": [
            "      24/50     0.732G     0.5279          4        224: 100%|██████████| 119/119 [00:35<00:00,  3.31it/s]\n",
            "               classes   top1_acc   top5_acc: 100%|██████████| 17/17 [00:05<00:00,  3.03it/s]"
          ]
        },
        {
          "output_type": "stream",
          "name": "stdout",
          "text": [
            "                   all      0.713          1\n"
          ]
        },
        {
          "output_type": "stream",
          "name": "stderr",
          "text": [
            "\n"
          ]
        },
        {
          "output_type": "stream",
          "name": "stdout",
          "text": [
            "\n",
            "      Epoch    GPU_mem       loss  Instances       Size\n"
          ]
        },
        {
          "output_type": "stream",
          "name": "stderr",
          "text": [
            "      25/50      0.76G     0.5143          4        224: 100%|██████████| 119/119 [00:35<00:00,  3.32it/s]\n",
            "               classes   top1_acc   top5_acc: 100%|██████████| 17/17 [00:05<00:00,  3.07it/s]"
          ]
        },
        {
          "output_type": "stream",
          "name": "stdout",
          "text": [
            "                   all      0.706          1\n"
          ]
        },
        {
          "output_type": "stream",
          "name": "stderr",
          "text": [
            "\n"
          ]
        },
        {
          "output_type": "stream",
          "name": "stdout",
          "text": [
            "\n",
            "      Epoch    GPU_mem       loss  Instances       Size\n"
          ]
        },
        {
          "output_type": "stream",
          "name": "stderr",
          "text": [
            "      26/50     0.738G     0.5106          4        224: 100%|██████████| 119/119 [00:36<00:00,  3.30it/s]\n",
            "               classes   top1_acc   top5_acc: 100%|██████████| 17/17 [00:05<00:00,  2.92it/s]"
          ]
        },
        {
          "output_type": "stream",
          "name": "stdout",
          "text": [
            "                   all      0.724          1\n"
          ]
        },
        {
          "output_type": "stream",
          "name": "stderr",
          "text": [
            "\n"
          ]
        },
        {
          "output_type": "stream",
          "name": "stdout",
          "text": [
            "\n",
            "      Epoch    GPU_mem       loss  Instances       Size\n"
          ]
        },
        {
          "output_type": "stream",
          "name": "stderr",
          "text": [
            "      27/50     0.752G     0.5084          4        224: 100%|██████████| 119/119 [00:37<00:00,  3.18it/s]\n",
            "               classes   top1_acc   top5_acc: 100%|██████████| 17/17 [00:06<00:00,  2.56it/s]"
          ]
        },
        {
          "output_type": "stream",
          "name": "stdout",
          "text": [
            "                   all      0.731          1\n"
          ]
        },
        {
          "output_type": "stream",
          "name": "stderr",
          "text": [
            "\n"
          ]
        },
        {
          "output_type": "stream",
          "name": "stdout",
          "text": [
            "\n",
            "      Epoch    GPU_mem       loss  Instances       Size\n"
          ]
        },
        {
          "output_type": "stream",
          "name": "stderr",
          "text": [
            "      28/50     0.727G     0.5067          4        224: 100%|██████████| 119/119 [00:35<00:00,  3.40it/s]\n",
            "               classes   top1_acc   top5_acc: 100%|██████████| 17/17 [00:06<00:00,  2.52it/s]"
          ]
        },
        {
          "output_type": "stream",
          "name": "stdout",
          "text": [
            "                   all      0.737          1\n",
            "\u001b[34m\u001b[1mEarlyStopping: \u001b[0mTraining stopped early as no improvement observed in last 10 epochs. Best results observed at epoch 18, best model saved as best.pt.\n",
            "To update EarlyStopping(patience=10) pass a new patience value, i.e. `patience=300` or use `patience=0` to disable EarlyStopping.\n"
          ]
        },
        {
          "output_type": "stream",
          "name": "stderr",
          "text": [
            "\n"
          ]
        },
        {
          "output_type": "stream",
          "name": "stdout",
          "text": [
            "\n",
            "28 epochs completed in 0.335 hours.\n",
            "Optimizer stripped from runs/classify/train2/weights/last.pt, 10.3MB\n",
            "Optimizer stripped from runs/classify/train2/weights/best.pt, 10.3MB\n",
            "\n",
            "Validating runs/classify/train2/weights/best.pt...\n",
            "Ultralytics 8.3.78 🚀 Python-3.11.11 torch-2.5.1+cu124 CUDA:0 (Tesla T4, 15095MiB)\n",
            "YOLOv8s-cls summary (fused): 30 layers, 5,079,043 parameters, 0 gradients, 12.5 GFLOPs\n",
            "\u001b[34m\u001b[1mtrain:\u001b[0m /content/drive/MyDrive/Datasets/knee-osteoarthritis-classification/Knee Osteoarthritis Classification/train... found 3780 images in 3 classes ✅ \n",
            "\u001b[34m\u001b[1mval:\u001b[0m /content/drive/MyDrive/Datasets/knee-osteoarthritis-classification/Knee Osteoarthritis Classification/val... found 1080 images in 3 classes ✅ \n",
            "\u001b[34m\u001b[1mtest:\u001b[0m /content/drive/MyDrive/Datasets/knee-osteoarthritis-classification/Knee Osteoarthritis Classification/test... found 540 images in 3 classes ✅ \n"
          ]
        },
        {
          "output_type": "stream",
          "name": "stderr",
          "text": [
            "\r               classes   top1_acc   top5_acc:   0%|          | 0/17 [00:00<?, ?it/s]"
          ]
        },
        {
          "output_type": "stream",
          "name": "stdout",
          "text": [
            "WARNING ⚠️ ClassificationModel does not support 'augment=True' prediction. Reverting to single-scale prediction.\n",
            "WARNING ⚠️ ClassificationModel does not support 'augment=True' prediction. Reverting to single-scale prediction.\n"
          ]
        },
        {
          "output_type": "stream",
          "name": "stderr",
          "text": [
            "\r               classes   top1_acc   top5_acc:  12%|█▏        | 2/17 [00:00<00:00, 18.58it/s]"
          ]
        },
        {
          "output_type": "stream",
          "name": "stdout",
          "text": [
            "WARNING ⚠️ ClassificationModel does not support 'augment=True' prediction. Reverting to single-scale prediction.\n",
            "WARNING ⚠️ ClassificationModel does not support 'augment=True' prediction. Reverting to single-scale prediction.\n"
          ]
        },
        {
          "output_type": "stream",
          "name": "stderr",
          "text": [
            "\r               classes   top1_acc   top5_acc:  24%|██▎       | 4/17 [00:00<00:00, 13.78it/s]"
          ]
        },
        {
          "output_type": "stream",
          "name": "stdout",
          "text": [
            "WARNING ⚠️ ClassificationModel does not support 'augment=True' prediction. Reverting to single-scale prediction.\n",
            "WARNING ⚠️ ClassificationModel does not support 'augment=True' prediction. Reverting to single-scale prediction.\n"
          ]
        },
        {
          "output_type": "stream",
          "name": "stderr",
          "text": [
            "\r               classes   top1_acc   top5_acc:  35%|███▌      | 6/17 [00:01<00:04,  2.33it/s]"
          ]
        },
        {
          "output_type": "stream",
          "name": "stdout",
          "text": [
            "WARNING ⚠️ ClassificationModel does not support 'augment=True' prediction. Reverting to single-scale prediction.\n"
          ]
        },
        {
          "output_type": "stream",
          "name": "stderr",
          "text": [
            "\r               classes   top1_acc   top5_acc:  41%|████      | 7/17 [00:02<00:04,  2.03it/s]"
          ]
        },
        {
          "output_type": "stream",
          "name": "stdout",
          "text": [
            "WARNING ⚠️ ClassificationModel does not support 'augment=True' prediction. Reverting to single-scale prediction.\n",
            "WARNING ⚠️ ClassificationModel does not support 'augment=True' prediction. Reverting to single-scale prediction.\n"
          ]
        },
        {
          "output_type": "stream",
          "name": "stderr",
          "text": [
            "\r               classes   top1_acc   top5_acc:  53%|█████▎    | 9/17 [00:03<00:03,  2.27it/s]"
          ]
        },
        {
          "output_type": "stream",
          "name": "stdout",
          "text": [
            "WARNING ⚠️ ClassificationModel does not support 'augment=True' prediction. Reverting to single-scale prediction.\n",
            "WARNING ⚠️ ClassificationModel does not support 'augment=True' prediction. Reverting to single-scale prediction.\n"
          ]
        },
        {
          "output_type": "stream",
          "name": "stderr",
          "text": [
            "\r               classes   top1_acc   top5_acc:  65%|██████▍   | 11/17 [00:04<00:02,  2.38it/s]"
          ]
        },
        {
          "output_type": "stream",
          "name": "stdout",
          "text": [
            "WARNING ⚠️ ClassificationModel does not support 'augment=True' prediction. Reverting to single-scale prediction.\n",
            "WARNING ⚠️ ClassificationModel does not support 'augment=True' prediction. Reverting to single-scale prediction.\n"
          ]
        },
        {
          "output_type": "stream",
          "name": "stderr",
          "text": [
            "\r               classes   top1_acc   top5_acc:  76%|███████▋  | 13/17 [00:05<00:01,  2.15it/s]"
          ]
        },
        {
          "output_type": "stream",
          "name": "stdout",
          "text": [
            "WARNING ⚠️ ClassificationModel does not support 'augment=True' prediction. Reverting to single-scale prediction.\n",
            "WARNING ⚠️ ClassificationModel does not support 'augment=True' prediction. Reverting to single-scale prediction.\n"
          ]
        },
        {
          "output_type": "stream",
          "name": "stderr",
          "text": [
            "\r               classes   top1_acc   top5_acc:  88%|████████▊ | 15/17 [00:06<00:00,  2.02it/s]"
          ]
        },
        {
          "output_type": "stream",
          "name": "stdout",
          "text": [
            "WARNING ⚠️ ClassificationModel does not support 'augment=True' prediction. Reverting to single-scale prediction.\n",
            "WARNING ⚠️ ClassificationModel does not support 'augment=True' prediction. Reverting to single-scale prediction.\n"
          ]
        },
        {
          "output_type": "stream",
          "name": "stderr",
          "text": [
            "               classes   top1_acc   top5_acc: 100%|██████████| 17/17 [00:07<00:00,  2.34it/s]\n"
          ]
        },
        {
          "output_type": "stream",
          "name": "stdout",
          "text": [
            "                   all      0.746          1\n",
            "Speed: 0.1ms preprocess, 0.5ms inference, 0.0ms loss, 0.0ms postprocess per image\n",
            "Results saved to \u001b[1mruns/classify/train2\u001b[0m\n",
            "🚀 Training completed successfully!\n"
          ]
        }
      ]
    },
    {
      "cell_type": "code",
      "source": [
        "\n",
        "# ----------------------------\n",
        "# ✅ 5. Evaluate Model\n",
        "# ----------------------------\n",
        "metrics = model.val()\n",
        "print(\"✅ Model Evaluation:\")\n",
        "print(metrics)\n",
        "\n",
        "\n",
        "# ----------------------------\n",
        "# ✅ 6. Save Fine-Tuned Model\n",
        "# ----------------------------\n",
        "model_path = \"/content/drive/MyDrive/Datasets/knee-osteoarthritis-classification/yolo8s_cls_finetuned.pt\"\n",
        "model.export(format=\"torchscript\")  # Convert model to TorchScript\n",
        "torch.save(model.model.state_dict(), model_path)\n",
        "print(f\"✅ Model saved at {model_path}\")"
      ],
      "metadata": {
        "colab": {
          "base_uri": "https://localhost:8080/"
        },
        "id": "it-G4yodH9oz",
        "outputId": "7d934ed4-e98e-4ad6-ad87-b2c0942f55d4"
      },
      "execution_count": 9,
      "outputs": [
        {
          "output_type": "stream",
          "name": "stdout",
          "text": [
            "Ultralytics 8.3.78 🚀 Python-3.11.11 torch-2.5.1+cu124 CUDA:0 (Tesla T4, 15095MiB)\n",
            "YOLOv8s-cls summary (fused): 30 layers, 5,079,043 parameters, 0 gradients, 12.5 GFLOPs\n",
            "\u001b[34m\u001b[1mtrain:\u001b[0m /content/drive/MyDrive/Datasets/knee-osteoarthritis-classification/Knee Osteoarthritis Classification/train... found 3780 images in 3 classes ✅ \n",
            "\u001b[34m\u001b[1mval:\u001b[0m /content/drive/MyDrive/Datasets/knee-osteoarthritis-classification/Knee Osteoarthritis Classification/val... found 1080 images in 3 classes ✅ \n",
            "\u001b[34m\u001b[1mtest:\u001b[0m /content/drive/MyDrive/Datasets/knee-osteoarthritis-classification/Knee Osteoarthritis Classification/test... found 540 images in 3 classes ✅ \n"
          ]
        },
        {
          "output_type": "stream",
          "name": "stderr",
          "text": [
            "\u001b[34m\u001b[1mval: \u001b[0mScanning /content/drive/MyDrive/Datasets/knee-osteoarthritis-classification/Knee Osteoarthritis Classification/val... 1080 images, 0 corrupt: 100%|██████████| 1080/1080 [00:00<?, ?it/s]\n",
            "               classes   top1_acc   top5_acc:   0%|          | 0/34 [00:00<?, ?it/s]"
          ]
        },
        {
          "output_type": "stream",
          "name": "stdout",
          "text": [
            "WARNING ⚠️ ClassificationModel does not support 'augment=True' prediction. Reverting to single-scale prediction.\n"
          ]
        },
        {
          "output_type": "stream",
          "name": "stderr",
          "text": [
            "\r               classes   top1_acc   top5_acc:   3%|▎         | 1/34 [00:01<00:42,  1.28s/it]"
          ]
        },
        {
          "output_type": "stream",
          "name": "stdout",
          "text": [
            "WARNING ⚠️ ClassificationModel does not support 'augment=True' prediction. Reverting to single-scale prediction.\n"
          ]
        },
        {
          "output_type": "stream",
          "name": "stderr",
          "text": [
            "\r               classes   top1_acc   top5_acc:   6%|▌         | 2/34 [00:01<00:19,  1.68it/s]"
          ]
        },
        {
          "output_type": "stream",
          "name": "stdout",
          "text": [
            "WARNING ⚠️ ClassificationModel does not support 'augment=True' prediction. Reverting to single-scale prediction.\n"
          ]
        },
        {
          "output_type": "stream",
          "name": "stderr",
          "text": [
            "\r               classes   top1_acc   top5_acc:   9%|▉         | 3/34 [00:01<00:16,  1.89it/s]"
          ]
        },
        {
          "output_type": "stream",
          "name": "stdout",
          "text": [
            "WARNING ⚠️ ClassificationModel does not support 'augment=True' prediction. Reverting to single-scale prediction.\n"
          ]
        },
        {
          "output_type": "stream",
          "name": "stderr",
          "text": [
            "\r               classes   top1_acc   top5_acc:  12%|█▏        | 4/34 [00:01<00:11,  2.68it/s]"
          ]
        },
        {
          "output_type": "stream",
          "name": "stdout",
          "text": [
            "WARNING ⚠️ ClassificationModel does not support 'augment=True' prediction. Reverting to single-scale prediction.\n"
          ]
        },
        {
          "output_type": "stream",
          "name": "stderr",
          "text": [
            "\r               classes   top1_acc   top5_acc:  15%|█▍        | 5/34 [00:02<00:12,  2.34it/s]"
          ]
        },
        {
          "output_type": "stream",
          "name": "stdout",
          "text": [
            "WARNING ⚠️ ClassificationModel does not support 'augment=True' prediction. Reverting to single-scale prediction.\n",
            "WARNING ⚠️ ClassificationModel does not support 'augment=True' prediction. Reverting to single-scale prediction.\n"
          ]
        },
        {
          "output_type": "stream",
          "name": "stderr",
          "text": [
            "\r               classes   top1_acc   top5_acc:  21%|██        | 7/34 [00:03<00:09,  2.96it/s]"
          ]
        },
        {
          "output_type": "stream",
          "name": "stdout",
          "text": [
            "WARNING ⚠️ ClassificationModel does not support 'augment=True' prediction. Reverting to single-scale prediction.\n",
            "WARNING ⚠️ ClassificationModel does not support 'augment=True' prediction. Reverting to single-scale prediction.\n"
          ]
        },
        {
          "output_type": "stream",
          "name": "stderr",
          "text": [
            "\r               classes   top1_acc   top5_acc:  26%|██▋       | 9/34 [00:03<00:07,  3.33it/s]"
          ]
        },
        {
          "output_type": "stream",
          "name": "stdout",
          "text": [
            "WARNING ⚠️ ClassificationModel does not support 'augment=True' prediction. Reverting to single-scale prediction.\n",
            "WARNING ⚠️ ClassificationModel does not support 'augment=True' prediction. Reverting to single-scale prediction.\n"
          ]
        },
        {
          "output_type": "stream",
          "name": "stderr",
          "text": [
            "\r               classes   top1_acc   top5_acc:  32%|███▏      | 11/34 [00:03<00:06,  3.63it/s]"
          ]
        },
        {
          "output_type": "stream",
          "name": "stdout",
          "text": [
            "WARNING ⚠️ ClassificationModel does not support 'augment=True' prediction. Reverting to single-scale prediction.\n",
            "WARNING ⚠️ ClassificationModel does not support 'augment=True' prediction. Reverting to single-scale prediction.\n"
          ]
        },
        {
          "output_type": "stream",
          "name": "stderr",
          "text": [
            "\r               classes   top1_acc   top5_acc:  38%|███▊      | 13/34 [00:04<00:05,  3.64it/s]"
          ]
        },
        {
          "output_type": "stream",
          "name": "stdout",
          "text": [
            "WARNING ⚠️ ClassificationModel does not support 'augment=True' prediction. Reverting to single-scale prediction.\n",
            "WARNING ⚠️ ClassificationModel does not support 'augment=True' prediction. Reverting to single-scale prediction.\n"
          ]
        },
        {
          "output_type": "stream",
          "name": "stderr",
          "text": [
            "\r               classes   top1_acc   top5_acc:  44%|████▍     | 15/34 [00:05<00:05,  3.64it/s]"
          ]
        },
        {
          "output_type": "stream",
          "name": "stdout",
          "text": [
            "WARNING ⚠️ ClassificationModel does not support 'augment=True' prediction. Reverting to single-scale prediction.\n",
            "WARNING ⚠️ ClassificationModel does not support 'augment=True' prediction. Reverting to single-scale prediction.\n"
          ]
        },
        {
          "output_type": "stream",
          "name": "stderr",
          "text": [
            "\r               classes   top1_acc   top5_acc:  50%|█████     | 17/34 [00:05<00:04,  4.10it/s]"
          ]
        },
        {
          "output_type": "stream",
          "name": "stdout",
          "text": [
            "WARNING ⚠️ ClassificationModel does not support 'augment=True' prediction. Reverting to single-scale prediction.\n",
            "WARNING ⚠️ ClassificationModel does not support 'augment=True' prediction. Reverting to single-scale prediction.\n"
          ]
        },
        {
          "output_type": "stream",
          "name": "stderr",
          "text": [
            "\r               classes   top1_acc   top5_acc:  56%|█████▌    | 19/34 [00:05<00:03,  4.45it/s]"
          ]
        },
        {
          "output_type": "stream",
          "name": "stdout",
          "text": [
            "WARNING ⚠️ ClassificationModel does not support 'augment=True' prediction. Reverting to single-scale prediction.\n",
            "WARNING ⚠️ ClassificationModel does not support 'augment=True' prediction. Reverting to single-scale prediction.\n"
          ]
        },
        {
          "output_type": "stream",
          "name": "stderr",
          "text": [
            "\r               classes   top1_acc   top5_acc:  62%|██████▏   | 21/34 [00:06<00:02,  4.69it/s]"
          ]
        },
        {
          "output_type": "stream",
          "name": "stdout",
          "text": [
            "WARNING ⚠️ ClassificationModel does not support 'augment=True' prediction. Reverting to single-scale prediction.\n",
            "WARNING ⚠️ ClassificationModel does not support 'augment=True' prediction. Reverting to single-scale prediction.\n"
          ]
        },
        {
          "output_type": "stream",
          "name": "stderr",
          "text": [
            "\r               classes   top1_acc   top5_acc:  68%|██████▊   | 23/34 [00:06<00:02,  5.00it/s]"
          ]
        },
        {
          "output_type": "stream",
          "name": "stdout",
          "text": [
            "WARNING ⚠️ ClassificationModel does not support 'augment=True' prediction. Reverting to single-scale prediction.\n",
            "WARNING ⚠️ ClassificationModel does not support 'augment=True' prediction. Reverting to single-scale prediction.\n"
          ]
        },
        {
          "output_type": "stream",
          "name": "stderr",
          "text": [
            "\r               classes   top1_acc   top5_acc:  74%|███████▎  | 25/34 [00:06<00:01,  5.16it/s]"
          ]
        },
        {
          "output_type": "stream",
          "name": "stdout",
          "text": [
            "WARNING ⚠️ ClassificationModel does not support 'augment=True' prediction. Reverting to single-scale prediction.\n",
            "WARNING ⚠️ ClassificationModel does not support 'augment=True' prediction. Reverting to single-scale prediction.\n"
          ]
        },
        {
          "output_type": "stream",
          "name": "stderr",
          "text": [
            "\r               classes   top1_acc   top5_acc:  79%|███████▉  | 27/34 [00:07<00:01,  5.33it/s]"
          ]
        },
        {
          "output_type": "stream",
          "name": "stdout",
          "text": [
            "WARNING ⚠️ ClassificationModel does not support 'augment=True' prediction. Reverting to single-scale prediction.\n",
            "WARNING ⚠️ ClassificationModel does not support 'augment=True' prediction. Reverting to single-scale prediction.\n"
          ]
        },
        {
          "output_type": "stream",
          "name": "stderr",
          "text": [
            "\r               classes   top1_acc   top5_acc:  85%|████████▌ | 29/34 [00:07<00:00,  5.48it/s]"
          ]
        },
        {
          "output_type": "stream",
          "name": "stdout",
          "text": [
            "WARNING ⚠️ ClassificationModel does not support 'augment=True' prediction. Reverting to single-scale prediction.\n",
            "WARNING ⚠️ ClassificationModel does not support 'augment=True' prediction. Reverting to single-scale prediction.\n"
          ]
        },
        {
          "output_type": "stream",
          "name": "stderr",
          "text": [
            "\r               classes   top1_acc   top5_acc:  91%|█████████ | 31/34 [00:08<00:00,  5.09it/s]"
          ]
        },
        {
          "output_type": "stream",
          "name": "stdout",
          "text": [
            "WARNING ⚠️ ClassificationModel does not support 'augment=True' prediction. Reverting to single-scale prediction.\n",
            "WARNING ⚠️ ClassificationModel does not support 'augment=True' prediction. Reverting to single-scale prediction.\n"
          ]
        },
        {
          "output_type": "stream",
          "name": "stderr",
          "text": [
            "\r               classes   top1_acc   top5_acc:  97%|█████████▋| 33/34 [00:08<00:00,  4.79it/s]"
          ]
        },
        {
          "output_type": "stream",
          "name": "stdout",
          "text": [
            "WARNING ⚠️ ClassificationModel does not support 'augment=True' prediction. Reverting to single-scale prediction.\n"
          ]
        },
        {
          "output_type": "stream",
          "name": "stderr",
          "text": [
            "               classes   top1_acc   top5_acc: 100%|██████████| 34/34 [00:08<00:00,  3.93it/s]\n"
          ]
        },
        {
          "output_type": "stream",
          "name": "stdout",
          "text": [
            "                   all      0.745          1\n",
            "Speed: 0.2ms preprocess, 1.0ms inference, 0.0ms loss, 0.0ms postprocess per image\n",
            "Results saved to \u001b[1mruns/classify/train22\u001b[0m\n",
            "✅ Model Evaluation:\n",
            "ultralytics.utils.metrics.ClassifyMetrics object with attributes:\n",
            "\n",
            "confusion_matrix: <ultralytics.utils.metrics.ConfusionMatrix object at 0x7e96c1ea39d0>\n",
            "curves: []\n",
            "curves_results: []\n",
            "fitness: 0.8726851940155029\n",
            "keys: ['metrics/accuracy_top1', 'metrics/accuracy_top5']\n",
            "results_dict: {'metrics/accuracy_top1': 0.7453703880310059, 'metrics/accuracy_top5': 1.0, 'fitness': 0.8726851940155029}\n",
            "save_dir: PosixPath('runs/classify/train22')\n",
            "speed: {'preprocess': 0.19620053981565502, 'inference': 1.0422754481489258, 'loss': 0.0006933129615963144, 'postprocess': 0.0011867287024937537}\n",
            "task: 'classify'\n",
            "top1: 0.7453703880310059\n",
            "top5: 1.0\n",
            "Ultralytics 8.3.78 🚀 Python-3.11.11 torch-2.5.1+cu124 CPU (Intel Xeon 2.00GHz)\n",
            "\n",
            "\u001b[34m\u001b[1mPyTorch:\u001b[0m starting from 'runs/classify/train2/weights/best.pt' with input shape (1, 3, 224, 224) BCHW and output shape(s) (1, 3) (9.8 MB)\n",
            "\n",
            "\u001b[34m\u001b[1mTorchScript:\u001b[0m starting export with torch 2.5.1+cu124...\n",
            "\u001b[34m\u001b[1mTorchScript:\u001b[0m export success ✅ 2.2s, saved as 'runs/classify/train2/weights/best.torchscript' (19.5 MB)\n",
            "\n",
            "Export complete (4.1s)\n",
            "Results saved to \u001b[1m/content/runs/classify/train2/weights\u001b[0m\n",
            "Predict:         yolo predict task=classify model=runs/classify/train2/weights/best.torchscript imgsz=224  \n",
            "Validate:        yolo val task=classify model=runs/classify/train2/weights/best.torchscript imgsz=224 data=/content/drive/MyDrive/Datasets/knee-osteoarthritis-classification/Knee Osteoarthritis Classification  \n",
            "Visualize:       https://netron.app\n",
            "✅ Model saved at /content/drive/MyDrive/Datasets/knee-osteoarthritis-classification/yolo8s_cls_finetuned.pt\n"
          ]
        }
      ]
    },
    {
      "cell_type": "code",
      "source": [
        "from PIL import Image\n",
        "import matplotlib.pyplot as plt\n",
        "\n",
        "# Path to the saved confusion matrix image\n",
        "conf_matrix_path = \"runs/classify/train22/confusion_matrix.png\"\n",
        "\n",
        "# Open and display the confusion matrix\n",
        "conf_matrix_img = Image.open(conf_matrix_path)\n",
        "plt.figure(figsize=(8, 8))\n",
        "plt.imshow(conf_matrix_img)\n",
        "plt.axis(\"off\")\n",
        "plt.title(\"Confusion Matrix\")\n",
        "plt.show()\n"
      ],
      "metadata": {
        "colab": {
          "base_uri": "https://localhost:8080/",
          "height": 515
        },
        "id": "pw7EzPoEKbp6",
        "outputId": "e7e6d13d-54ad-4470-b970-daf04fc679fc"
      },
      "execution_count": 14,
      "outputs": [
        {
          "output_type": "display_data",
          "data": {
            "text/plain": [
              "<Figure size 800x800 with 1 Axes>"
            ],
            "image/png": "[encoded data removed]"
          },
          "metadata": {}
        }
      ]
    },
    {
      "cell_type": "code",
      "source": [],
      "metadata": {
        "id": "GqNLayMFKbse"
      },
      "execution_count": null,
      "outputs": []
    },
    {
      "cell_type": "code",
      "source": [],
      "metadata": {
        "id": "IHASOWnbKbvC"
      },
      "execution_count": null,
      "outputs": []
    },
    {
      "cell_type": "code",
      "source": [],
      "metadata": {
        "id": "DLggz6zwKbxk"
      },
      "execution_count": null,
      "outputs": []
    },
    {
      "cell_type": "code",
      "source": [],
      "metadata": {
        "id": "2ZiLOIXQKb0N"
      },
      "execution_count": null,
      "outputs": []
    },
    {
      "cell_type": "code",
      "source": [],
      "metadata": {
        "id": "kLGntICkKb3K"
      },
      "execution_count": null,
      "outputs": []
    },
    {
      "cell_type": "markdown",
      "source": [
        "#Data prepration"
      ],
      "metadata": {
        "id": "QGn6CBBpKd0x"
      }
    },
    {
      "cell_type": "code",
      "source": [
        "import os\n",
        "import pandas as pd\n",
        "\n",
        "# -------------------------------------------\n",
        "# ✅ 1. Set Dataset Paths\n",
        "# -------------------------------------------\n",
        "dataset_path = \"/content/drive/MyDrive/Datasets/knee-osteoarthritis-classification/Knee Osteoarthritis Classification\"\n",
        "\n",
        "# -------------------------------------------\n",
        "# ✅ 2. Collect Image Paths & Labels\n",
        "# -------------------------------------------\n",
        "data = []\n",
        "\n",
        "# Loop through train, val, and test folders\n",
        "for split in [\"train\", \"val\", \"test\"]:\n",
        "    split_path = os.path.join(dataset_path, split)\n",
        "\n",
        "    # Get class names inside each split folder\n",
        "    class_dirs = [d for d in os.listdir(split_path) if os.path.isdir(os.path.join(split_path, d))]\n",
        "    print(f\"🔹 Found classes in {split}: {class_dirs}\")\n",
        "\n",
        "    for class_name in class_dirs:\n",
        "        class_path = os.path.join(split_path, class_name)\n",
        "        image_files = [f for f in os.listdir(class_path) if os.path.isfile(os.path.join(class_path, f))]\n",
        "\n",
        "        for img_file in image_files:\n",
        "            file_path = os.path.join(class_path, img_file)\n",
        "            data.append({\"file_path\": file_path, \"label\": class_name, \"split\": split})  # Include split info\n",
        "\n",
        "# Create DataFrame\n",
        "df = pd.DataFrame(data)\n",
        "\n",
        "# -------------------------------------------\n",
        "# ✅ 3. Display Dataset Info\n",
        "# -------------------------------------------\n",
        "print(f\"\\n✅ Total images found: {len(df)}\")\n",
        "print(df.head())\n",
        "\n",
        "# Group by split\n",
        "print(\"\\n📊 Dataset Distribution:\")\n",
        "print(df[\"split\"].value_counts())\n"
      ],
      "metadata": {
        "colab": {
          "base_uri": "https://localhost:8080/"
        },
        "id": "IS6GtDqwKb6v",
        "outputId": "a0c20a8d-0f89-4f13-e18d-fa3cfdaf438a"
      },
      "execution_count": 15,
      "outputs": [
        {
          "output_type": "stream",
          "name": "stdout",
          "text": [
            "🔹 Found classes in train: ['Normal', 'Osteopenia', 'Osteoporosis']\n",
            "🔹 Found classes in val: ['Osteopenia', 'Osteoporosis', 'Normal']\n",
            "🔹 Found classes in test: ['Normal', 'Osteopenia', 'Osteoporosis']\n",
            "\n",
            "✅ Total images found: 5400\n",
            "                                           file_path   label  split\n",
            "0  /content/drive/MyDrive/Datasets/knee-osteoarth...  Normal  train\n",
            "1  /content/drive/MyDrive/Datasets/knee-osteoarth...  Normal  train\n",
            "2  /content/drive/MyDrive/Datasets/knee-osteoarth...  Normal  train\n",
            "3  /content/drive/MyDrive/Datasets/knee-osteoarth...  Normal  train\n",
            "4  /content/drive/MyDrive/Datasets/knee-osteoarth...  Normal  train\n",
            "\n",
            "📊 Dataset Distribution:\n",
            "split\n",
            "train    3780\n",
            "val      1080\n",
            "test      540\n",
            "Name: count, dtype: int64\n"
          ]
        }
      ]
    },
    {
      "cell_type": "markdown",
      "source": [
        "#Data transformation and Augmentations"
      ],
      "metadata": {
        "id": "wVr3G7OzMWb_"
      }
    },
    {
      "cell_type": "code",
      "source": [
        "import os\n",
        "import pandas as pd\n",
        "\n",
        "# -------------------------------------------\n",
        "# ✅ 1. Set Dataset Paths\n",
        "# -------------------------------------------\n",
        "dataset_path = \"/content/drive/MyDrive/Datasets/knee-osteoarthritis-classification/Knee Osteoarthritis Classification\"\n",
        "\n",
        "# -------------------------------------------\n",
        "# ✅ 2. Collect Image Paths & Labels Separately for Train, Val, and Test\n",
        "# -------------------------------------------\n",
        "def create_dataframe(split):\n",
        "    \"\"\"Creates a DataFrame for a given dataset split (train, val, test).\"\"\"\n",
        "    split_path = os.path.join(dataset_path, split)\n",
        "    data = []\n",
        "\n",
        "    # Get class names inside the split folder\n",
        "    class_dirs = [d for d in os.listdir(split_path) if os.path.isdir(os.path.join(split_path, d))]\n",
        "    print(f\"🔹 Found classes in {split}: {class_dirs}\")\n",
        "\n",
        "    for class_name in class_dirs:\n",
        "        class_path = os.path.join(split_path, class_name)\n",
        "        image_files = [f for f in os.listdir(class_path) if os.path.isfile(os.path.join(class_path, f))]\n",
        "\n",
        "        for img_file in image_files:\n",
        "            file_path = os.path.join(class_path, img_file)\n",
        "            data.append({\"file_path\": file_path, \"label\": class_name})\n",
        "\n",
        "    return pd.DataFrame(data)\n",
        "\n",
        "# Create separate DataFrames\n",
        "train_df = create_dataframe(\"train\")\n",
        "val_df = create_dataframe(\"val\")\n",
        "test_df = create_dataframe(\"test\")\n",
        "\n",
        "# -------------------------------------------\n",
        "# ✅ 3. Display Dataset Info\n",
        "# -------------------------------------------\n",
        "print(f\"\\n✅ Total Training Images: {len(train_df)}\")\n",
        "print(train_df.head())\n",
        "\n",
        "print(f\"\\n✅ Total Validation Images: {len(val_df)}\")\n",
        "print(val_df.head())\n",
        "\n",
        "print(f\"\\n✅ Total Test Images: {len(test_df)}\")\n",
        "print(test_df.head())\n"
      ],
      "metadata": {
        "colab": {
          "base_uri": "https://localhost:8080/"
        },
        "id": "ItVhEkFfMVkN",
        "outputId": "bffacaef-8fdc-48ee-8f87-0c5a580ed858"
      },
      "execution_count": 22,
      "outputs": [
        {
          "output_type": "stream",
          "name": "stdout",
          "text": [
            "🔹 Found classes in train: ['Normal', 'Osteopenia', 'Osteoporosis']\n",
            "🔹 Found classes in val: ['Osteopenia', 'Osteoporosis', 'Normal']\n",
            "🔹 Found classes in test: ['Normal', 'Osteopenia', 'Osteoporosis']\n",
            "\n",
            "✅ Total Training Images: 3780\n",
            "                                           file_path   label\n",
            "0  /content/drive/MyDrive/Datasets/knee-osteoarth...  Normal\n",
            "1  /content/drive/MyDrive/Datasets/knee-osteoarth...  Normal\n",
            "2  /content/drive/MyDrive/Datasets/knee-osteoarth...  Normal\n",
            "3  /content/drive/MyDrive/Datasets/knee-osteoarth...  Normal\n",
            "4  /content/drive/MyDrive/Datasets/knee-osteoarth...  Normal\n",
            "\n",
            "✅ Total Validation Images: 1080\n",
            "                                           file_path       label\n",
            "0  /content/drive/MyDrive/Datasets/knee-osteoarth...  Osteopenia\n",
            "1  /content/drive/MyDrive/Datasets/knee-osteoarth...  Osteopenia\n",
            "2  /content/drive/MyDrive/Datasets/knee-osteoarth...  Osteopenia\n",
            "3  /content/drive/MyDrive/Datasets/knee-osteoarth...  Osteopenia\n",
            "4  /content/drive/MyDrive/Datasets/knee-osteoarth...  Osteopenia\n",
            "\n",
            "✅ Total Test Images: 540\n",
            "                                           file_path   label\n",
            "0  /content/drive/MyDrive/Datasets/knee-osteoarth...  Normal\n",
            "1  /content/drive/MyDrive/Datasets/knee-osteoarth...  Normal\n",
            "2  /content/drive/MyDrive/Datasets/knee-osteoarth...  Normal\n",
            "3  /content/drive/MyDrive/Datasets/knee-osteoarth...  Normal\n",
            "4  /content/drive/MyDrive/Datasets/knee-osteoarth...  Normal\n"
          ]
        }
      ]
    },
    {
      "cell_type": "code",
      "source": [
        "train_df.shape"
      ],
      "metadata": {
        "colab": {
          "base_uri": "https://localhost:8080/"
        },
        "id": "w7WdgVmvPidc",
        "outputId": "22ed0d02-aad5-4fd4-8c4e-2c01929722bb"
      },
      "execution_count": 23,
      "outputs": [
        {
          "output_type": "execute_result",
          "data": {
            "text/plain": [
              "(3780, 2)"
            ]
          },
          "metadata": {},
          "execution_count": 23
        }
      ]
    },
    {
      "cell_type": "code",
      "source": [
        "val_df.shape"
      ],
      "metadata": {
        "colab": {
          "base_uri": "https://localhost:8080/"
        },
        "id": "cFuL9jCSPkZq",
        "outputId": "be82076d-96b0-46ac-9ed6-6e3255aed9de"
      },
      "execution_count": 24,
      "outputs": [
        {
          "output_type": "execute_result",
          "data": {
            "text/plain": [
              "(1080, 2)"
            ]
          },
          "metadata": {},
          "execution_count": 24
        }
      ]
    },
    {
      "cell_type": "code",
      "source": [
        "test_df.shape"
      ],
      "metadata": {
        "colab": {
          "base_uri": "https://localhost:8080/"
        },
        "id": "nBY6VYBUPkdB",
        "outputId": "b3807807-5ed5-4050-abdd-95f4f05260d4"
      },
      "execution_count": 25,
      "outputs": [
        {
          "output_type": "execute_result",
          "data": {
            "text/plain": [
              "(540, 2)"
            ]
          },
          "metadata": {},
          "execution_count": 25
        }
      ]
    },
    {
      "cell_type": "code",
      "source": [
        "traindf_label_value_counts = train_df['label'].value_counts()\n",
        "validdf_label_value_counts = val_df['label'].value_counts()\n",
        "testdf_label_value_counts = test_df['label'].value_counts()"
      ],
      "metadata": {
        "id": "eskg4ffUPaui"
      },
      "execution_count": 27,
      "outputs": []
    },
    {
      "cell_type": "code",
      "source": [
        "print(\"distribution of train data\")\n",
        "print(traindf_label_value_counts)\n",
        "print(\"distribution of valid data\")\n",
        "print(validdf_label_value_counts)\n",
        "print(\"distribution of test data\")\n",
        "print(testdf_label_value_counts)"
      ],
      "metadata": {
        "colab": {
          "base_uri": "https://localhost:8080/"
        },
        "id": "so-VvxmFPv4_",
        "outputId": "a496fb95-602e-4fac-886a-52060d13ec2e"
      },
      "execution_count": 28,
      "outputs": [
        {
          "output_type": "stream",
          "name": "stdout",
          "text": [
            "distribution of train data\n",
            "label\n",
            "Normal          1260\n",
            "Osteopenia      1260\n",
            "Osteoporosis    1260\n",
            "Name: count, dtype: int64\n",
            "distribution of valid data\n",
            "label\n",
            "Osteopenia      360\n",
            "Osteoporosis    360\n",
            "Normal          360\n",
            "Name: count, dtype: int64\n",
            "distribution of test data\n",
            "label\n",
            "Normal          180\n",
            "Osteopenia      180\n",
            "Osteoporosis    180\n",
            "Name: count, dtype: int64\n"
          ]
        }
      ]
    },
    {
      "cell_type": "code",
      "source": [
        "print(f'how many rows are duplicated in train dataset ? : {train_df.duplicated().sum()}')\n",
        "print(f'how many rows are duplicated in valid dataset? : {val_df.duplicated().sum()}')\n",
        "print(f'how many rows are duplicated in test dataset ? : {test_df.duplicated().sum()}')\n"
      ],
      "metadata": {
        "colab": {
          "base_uri": "https://localhost:8080/"
        },
        "id": "AyKie0HTQV3g",
        "outputId": "c60de6bc-f231-4b44-b2c2-39eaa420ca61"
      },
      "execution_count": 30,
      "outputs": [
        {
          "output_type": "stream",
          "name": "stdout",
          "text": [
            "how many rows are duplicated in train dataset ? : 0\n",
            "how many rows are duplicated in valid dataset? : 0\n",
            "how many rows are duplicated in test dataset ? : 0\n"
          ]
        }
      ]
    },
    {
      "cell_type": "code",
      "source": [
        "classes_names = train_df['label'].unique()\n",
        "print(f'classes names in dataset : {classes_names}')\n"
      ],
      "metadata": {
        "colab": {
          "base_uri": "https://localhost:8080/"
        },
        "id": "Ra_EbKQRQZfN",
        "outputId": "adfc71f1-ed51-44c3-e10c-8416588fbe50"
      },
      "execution_count": 31,
      "outputs": [
        {
          "output_type": "stream",
          "name": "stdout",
          "text": [
            "classes names in dataset : ['Normal' 'Osteopenia' 'Osteoporosis']\n"
          ]
        }
      ]
    },
    {
      "cell_type": "code",
      "source": [
        "import matplotlib.pyplot as plt\n",
        "import matplotlib.image as mpimg\n",
        "import numpy as np\n",
        "\n",
        "# Assuming the following class names are mapped correctly to integer labels\n",
        "class_labels = ['Normal', 'Osteopenia', 'Osteoporosis']\n",
        "class_colors = {\n",
        "    \"Normal\": \"blue\",\n",
        "    \"Osteopenia\": \"orange\",\n",
        "    \"Osteoporosis\": \"purple\"\n",
        "}\n",
        "\n",
        "# Map class names to integer indices (assuming these are the same as in your dataset)\n",
        "label_mapping = {\n",
        "    'Normal': 0,\n",
        "    'Osteopenia': 1,\n",
        "    'Osteoporosis': 2\n",
        "}\n",
        "\n",
        "# Collect file paths for each class\n",
        "samples_per_class = 10\n",
        "image_paths = {}\n",
        "\n",
        "# Now, we need to access the correct rows using integer-based labels\n",
        "for class_name, class_idx in label_mapping.items():\n",
        "    # Get the file paths for the corresponding label index (which should be integer-based in train_df)\n",
        "    file_paths = train_df[train_df['label'] == class_idx]['file_path'].values\n",
        "\n",
        "    # If a class has fewer than 10 images, take all available images\n",
        "    if len(file_paths) > 0:\n",
        "        image_paths[class_name] = np.random.choice(file_paths, min(samples_per_class, len(file_paths)), replace=False)\n",
        "    else:\n",
        "        image_paths[class_name] = []  # Empty list if no images exist\n",
        "\n",
        "# Set up subplot grid (3 rows for 3 classes, 10 columns)\n",
        "fig, axes = plt.subplots(nrows=len(class_labels), ncols=10, figsize=(30, 18))\n",
        "\n",
        "# Function to display images with fancy borders\n",
        "def display_image(ax, img_path, title, border_color):\n",
        "    try:\n",
        "        img = mpimg.imread(img_path)\n",
        "        ax.imshow(img, cmap=\"gray\")  # Display in grayscale\n",
        "        ax.set_xticks([])  # Hide x-axis ticks\n",
        "        ax.set_yticks([])  # Hide y-axis ticks\n",
        "        ax.set_title(title, fontsize=14, fontweight=\"bold\", color=border_color, pad=10)\n",
        "\n",
        "        # Add border effect by setting the edge color of the subplot\n",
        "        for spine in ax.spines.values():\n",
        "            spine.set_edgecolor(border_color)\n",
        "            spine.set_linewidth(3)\n",
        "\n",
        "    except Exception as e:\n",
        "        ax.axis(\"off\")  # Hide empty images if there's an issue\n",
        "\n",
        "# Populate subplots with images\n",
        "for row, (class_name, img_list) in enumerate(image_paths.items()):\n",
        "    for col in range(10):  # Ensure each row has 10 images\n",
        "        if col < len(img_list):\n",
        "            display_image(axes[row, col], img_list[col], class_name, class_colors[class_name])\n",
        "        else:\n",
        "            axes[row, col].axis(\"off\")  # Hide empty subplots if fewer than 10 images\n",
        "\n",
        "# Adjust layout and show the plot\n",
        "plt.tight_layout()\n",
        "plt.show()\n"
      ],
      "metadata": {
        "colab": {
          "base_uri": "https://localhost:8080/",
          "height": 393
        },
        "id": "V9CJgMjSQcMX",
        "outputId": "60a25d73-d9a9-4cb7-d504-75afd350833b"
      },
      "execution_count": 38,
      "outputs": [
        {
          "output_type": "display_data",
          "data": {
            "text/plain": [
              "<Figure size 3000x1800 with 30 Axes>"
            ],
            "image/png": "[encoded data removed]"
          },
          "metadata": {}
        }
      ]
    },
    {
      "cell_type": "code",
      "source": [
        "import matplotlib.pyplot as plt\n",
        "import matplotlib.image as mpimg\n",
        "import numpy as np\n",
        "\n",
        "# Define class labels and the corresponding integer mappings\n",
        "class_labels = [\"Normal\", \"Mild\", \"Severe\"]\n",
        "class_colors = {\n",
        "    \"Normal\": \"blue\",\n",
        "    \"Mild\": \"green\",\n",
        "    \"Severe\": \"red\"\n",
        "}\n",
        "\n",
        "# Collect file paths for each class\n",
        "samples_per_class = 10\n",
        "image_paths = {}\n",
        "\n",
        "# Map class labels to their corresponding integer values in the dataset\n",
        "class_to_idx = {label: idx for idx, label in enumerate(class_labels)}\n",
        "\n",
        "# Collect image file paths per class\n",
        "for class_name in class_labels:\n",
        "    # Get the integer value for the class\n",
        "    class_idx = class_to_idx[class_name]\n",
        "\n",
        "    # Filter the train dataframe for the current class\n",
        "    file_paths = train_df[train_df['label'] == class_idx]['file_path'].values\n",
        "\n",
        "    # Randomly sample images if there are more than 'samples_per_class' images\n",
        "    if len(file_paths) > 0:\n",
        "        image_paths[class_name] = np.random.choice(file_paths, min(samples_per_class, len(file_paths)), replace=False)\n",
        "    else:\n",
        "        image_paths[class_name] = []  # Empty list if no images exist\n",
        "\n",
        "# Set up subplot grid (3 rows for 3 classes, 10 columns)\n",
        "fig, axes = plt.subplots(nrows=len(class_labels), ncols=10, figsize=(30, 18))\n",
        "\n",
        "# Function to display images with fancy borders\n",
        "def display_image(ax, img_path, title, border_color):\n",
        "    try:\n",
        "        img = mpimg.imread(img_path)\n",
        "        ax.imshow(img, cmap=\"gray\")  # Display in grayscale\n",
        "        ax.set_xticks([])  # Hide x-axis ticks\n",
        "        ax.set_yticks([])  # Hide y-axis ticks\n",
        "        ax.set_title(title, fontsize=14, fontweight=\"bold\", color=border_color, pad=10)\n",
        "\n",
        "        # Add border effect by setting the edge color of the subplot\n",
        "        for spine in ax.spines.values():\n",
        "            spine.set_edgecolor(border_color)\n",
        "            spine.set_linewidth(3)\n",
        "\n",
        "    except Exception as e:\n",
        "        ax.axis(\"off\")  # Hide empty images if there's an issue\n",
        "\n",
        "# Populate subplots with images\n",
        "for row, (class_name, img_list) in enumerate(image_paths.items()):\n",
        "    for col in range(10):  # Ensure each row has 10 images\n",
        "        if col < len(img_list):\n",
        "            display_image(axes[row, col], img_list[col], class_name, class_colors[class_name])\n",
        "        else:\n",
        "            axes[row, col].axis(\"off\")  # Hide empty subplots if fewer than 10 images\n",
        "\n",
        "# Adjust layout and show the plot\n",
        "plt.tight_layout()\n",
        "plt.show()\n"
      ],
      "metadata": {
        "colab": {
          "base_uri": "https://localhost:8080/",
          "height": 393
        },
        "id": "DqAG3zj3Qo_i",
        "outputId": "16a846e5-5ccc-4d03-82f4-fdfc10ae4156"
      },
      "execution_count": 37,
      "outputs": [
        {
          "output_type": "display_data",
          "data": {
            "text/plain": [
              "<Figure size 3000x1800 with 30 Axes>"
            ],
            "image/png": "[encoded data removed]"
          },
          "metadata": {}
        }
      ]
    },
    {
      "cell_type": "code",
      "source": [
        "import os\n",
        "import torch\n",
        "import numpy as np\n",
        "import pandas as pd\n",
        "from torch.utils.data import Dataset, DataLoader\n",
        "from torchvision import transforms\n",
        "from PIL import Image, ImageFile\n",
        "from sklearn.utils import resample\n",
        "from sklearn.preprocessing import LabelEncoder\n",
        "\n",
        "# ✅ Handle corrupted images gracefully\n",
        "ImageFile.LOAD_TRUNCATED_IMAGES = True\n",
        "\n",
        "# ✅ **Apply Label Encoding to Convert Categorical Labels into Numeric Form**\n",
        "label_encoder = LabelEncoder()\n",
        "\n",
        "# Apply encoding to labels in DataFrame\n",
        "train_df['label'] = label_encoder.fit_transform(train_df['label'])\n",
        "val_df['label'] = label_encoder.transform(val_df['label'])\n",
        "test_df['label'] = label_encoder.transform(test_df['label'])\n",
        "\n",
        "# ✅ **Optimized Data Augmentation for Training**\n",
        "train_transform = transforms.Compose([\n",
        "    transforms.Resize((224, 224)),\n",
        "    transforms.RandomHorizontalFlip(p=0.5),\n",
        "    transforms.RandomVerticalFlip(p=0.5),\n",
        "    transforms.RandomAffine(degrees=10, translate=(0.05, 0.05), scale=(0.9, 1.1)),\n",
        "    transforms.GaussianBlur(kernel_size=3, sigma=(0.1, 2.0)),\n",
        "    transforms.ToTensor(),\n",
        "    transforms.Normalize(mean=[0.485, 0.456, 0.406], std=[0.229, 0.224, 0.225])\n",
        "])\n",
        "\n",
        "# ✅ **Minimal Transformations for Validation & Test Data**\n",
        "test_transform = transforms.Compose([\n",
        "    transforms.Resize((224, 224)),\n",
        "    transforms.ToTensor(),\n",
        "    transforms.Normalize(mean=[0.485, 0.456, 0.406], std=[0.229, 0.224, 0.225])\n",
        "])\n",
        "\n",
        "# ✅ **Custom Dataset Class with Improved Error Handling**\n",
        "class CustomDataset(Dataset):\n",
        "    def __init__(self, dataframe, transform=None):\n",
        "        self.dataframe = dataframe\n",
        "        self.transform = transform\n",
        "\n",
        "    def __len__(self):\n",
        "        return len(self.dataframe)\n",
        "\n",
        "    def __getitem__(self, idx):\n",
        "        img_path = self.dataframe.iloc[idx, 0]\n",
        "        label = self.dataframe.iloc[idx, 1]  # The label should already be encoded\n",
        "\n",
        "        # Check if the image file exists\n",
        "        if not os.path.isfile(img_path):\n",
        "            print(f\"⚠ Warning: Missing file {img_path}\")\n",
        "            return None\n",
        "\n",
        "        try:\n",
        "            img = Image.open(img_path).convert('RGB')\n",
        "        except Exception as e:\n",
        "            print(f\"❌ Error loading image {img_path}: {e}\")\n",
        "            return None\n",
        "\n",
        "        if self.transform:\n",
        "            img = self.transform(img)\n",
        "\n",
        "        # Ensure label is a tensor and is of the correct type (long integer)\n",
        "        return img, torch.tensor(label, dtype=torch.long)  # Ensure label is numeric\n",
        "\n",
        "# ✅ **Create Datasets**\n",
        "train_dataset = CustomDataset(train_df, transform=train_transform)  # Ensure train_df is defined\n",
        "valid_dataset = CustomDataset(val_df, transform=test_transform)\n",
        "test_dataset = CustomDataset(test_df, transform=test_transform)\n",
        "\n",
        "# ✅ **Optimized DataLoaders for Performance**\n",
        "train_loader = DataLoader(train_dataset, batch_size=64, shuffle=True, num_workers=4, pin_memory=True)\n",
        "val_loader = DataLoader(valid_dataset, batch_size=64, shuffle=False, num_workers=4, pin_memory=True)\n",
        "test_loader = DataLoader(test_dataset, batch_size=64, shuffle=False, num_workers=4, pin_memory=True)\n",
        "\n",
        "# ✅ **Dataset Summary**\n",
        "print(f\"✅ Training dataset size: {len(train_loader.dataset)}\")\n",
        "print(f\"✅ Validation dataset size: {len(val_loader.dataset)}\")\n",
        "print(f\"✅ Test dataset size: {len(test_loader.dataset)}\")\n",
        "\n",
        "# ✅ **Show Class Encoding**\n",
        "print(\"\\nLabel Encoding Mapping:\")\n",
        "for class_name, encoded_value in zip(label_encoder.classes_, label_encoder.transform(label_encoder.classes_)):\n",
        "    print(f\"  {class_name} → {encoded_value}\")\n"
      ],
      "metadata": {
        "colab": {
          "base_uri": "https://localhost:8080/"
        },
        "id": "L5yUfqzARXIQ",
        "outputId": "ab9b7aeb-a373-4932-e03d-e5bc21545221"
      },
      "execution_count": 39,
      "outputs": [
        {
          "output_type": "stream",
          "name": "stdout",
          "text": [
            "✅ Training dataset size: 3780\n",
            "✅ Validation dataset size: 1080\n",
            "✅ Test dataset size: 540\n",
            "\n",
            "Label Encoding Mapping:\n",
            "  Normal → 0\n",
            "  Osteopenia → 1\n",
            "  Osteoporosis → 2\n"
          ]
        }
      ]
    },
    {
      "cell_type": "code",
      "source": [
        "import matplotlib.pyplot as plt\n",
        "import seaborn as sns\n",
        "\n",
        "# Function to create an attractive pie chart\n",
        "def plot_pie_chart(sizes, labels, title):\n",
        "    colors = sns.color_palette(\"plasma\", len(sizes))  # Vibrant color theme 🌈\n",
        "    explode = [0.07, 0.05, 0.03]  # Different explode values for emphasis 💥\n",
        "\n",
        "    plt.figure(figsize=(9, 9))  # Slightly larger size for better visibility\n",
        "    wedges, texts, autotexts = plt.pie(\n",
        "        sizes, labels=labels, autopct='%1.1f%%', startangle=140,\n",
        "        colors=colors, explode=explode, shadow=True,\n",
        "        wedgeprops={'edgecolor': 'black', 'linewidth': 2, 'linestyle': '--'}\n",
        "    )\n",
        "\n",
        "    # Customize text appearance 🎨\n",
        "    for text in texts:\n",
        "        text.set_fontsize(14)\n",
        "        text.set_fontweight('bold')\n",
        "\n",
        "    for autotext in autotexts:\n",
        "        autotext.set_fontsize(14)\n",
        "        autotext.set_color('black')  # Increased contrast for better readability\n",
        "        autotext.set_fontweight('bold')\n",
        "\n",
        "    # Add a title with an emoji 📊\n",
        "    plt.title(title, fontsize=18, fontweight='bold', color=\"#4A4A4A\", pad=15)\n",
        "    plt.axis('equal')  # Keep the pie circular\n",
        "    plt.show()\n",
        "\n",
        "# Get the dataset sizes\n",
        "train_size = len(train_loader.dataset)\n",
        "val_size = len(val_loader.dataset)\n",
        "test_size = len(test_loader.dataset)\n",
        "\n",
        "# Labels and sizes\n",
        "sizes = [train_size, val_size, test_size]\n",
        "labels = ['🟢 Training Set', '🔵 Validation Set', '🟠 Test Set']  # Emojis for fun!\n",
        "\n",
        "# Plot the pie chart\n",
        "plot_pie_chart(sizes, labels, '📊 Medical Dataset Distribution')\n"
      ],
      "metadata": {
        "colab": {
          "base_uri": "https://localhost:8080/",
          "height": 796
        },
        "id": "b7iqCZNRSH1-",
        "outputId": "570cd10f-add2-4584-d50d-d6003b2f2d30"
      },
      "execution_count": 40,
      "outputs": [
        {
          "output_type": "display_data",
          "data": {
            "text/plain": [
              "<Figure size 900x900 with 1 Axes>"
            ],
            "image/png": "[encoded data removed]"
          },
          "metadata": {}
        }
      ]
    },
    {
      "cell_type": "markdown",
      "source": [
        "#Modeling"
      ],
      "metadata": {
        "id": "f7VT9nzcSeNm"
      }
    },
    {
      "cell_type": "code",
      "source": [
        "\n",
        "# Check if CUDA is available\n",
        "if torch.cuda.is_available():\n",
        "    print(\"CUDA is available!\")\n",
        "    # Get the current device\n",
        "    current_device = torch.cuda.current_device()\n",
        "    print(f\"Current CUDA device: {current_device}\")\n",
        "\n",
        "    # Get the number of GPUs\n",
        "    num_gpus = torch.cuda.device_count()\n",
        "    print(f\"Number of available GPUs: {num_gpus}\")\n",
        "\n",
        "    # Get the name of the GPU\n",
        "    for i in range(num_gpus):\n",
        "        print(f\"GPU {i}: {torch.cuda.get_device_name(i)}\")\n",
        "else:\n",
        "    print(\"CUDA is not available.\")\n",
        "\n",
        "\n",
        "\n",
        "\n"
      ],
      "metadata": {
        "colab": {
          "base_uri": "https://localhost:8080/"
        },
        "id": "WY7wl_t3SVfb",
        "outputId": "a8672827-2650-49b7-acdd-6c6206e63259"
      },
      "execution_count": 42,
      "outputs": [
        {
          "output_type": "stream",
          "name": "stdout",
          "text": [
            "CUDA is available!\n",
            "Current CUDA device: 0\n",
            "Number of available GPUs: 1\n",
            "GPU 0: Tesla T4\n"
          ]
        }
      ]
    },
    {
      "cell_type": "code",
      "source": [
        "import torch\n",
        "import torch.nn as nn\n",
        "import torch.optim as optim\n",
        "from torch.optim.lr_scheduler import CosineAnnealingLR\n",
        "from torch.cuda.amp import GradScaler\n",
        "from torchsummary import summary\n",
        "import torchvision.models as models\n",
        "\n",
        "# ===========================================================\n",
        "# 🔥 **Fully Fine-Tuned ResNeXt-101 Model**\n",
        "# ===========================================================\n",
        "class ResNeXt101FineTuned(nn.Module):\n",
        "    def __init__(self, num_classes=5):\n",
        "        super(ResNeXt101FineTuned, self).__init__()\n",
        "\n",
        "        # Load pre-trained ResNeXt-101 model\n",
        "        self.resnext101 = models.resnext50_32x4d(pretrained=True)\n",
        "\n",
        "        # ✅ Unfreeze ALL layers for full fine-tuning\n",
        "        for param in self.resnext101.parameters():\n",
        "            param.requires_grad = True\n",
        "\n",
        "        # ✅ Modify the final classification layer to fit num_classes\n",
        "        in_features = self.resnext101.fc.in_features\n",
        "        self.resnext101.fc = nn.Linear(in_features, num_classes)\n",
        "\n",
        "    def forward(self, x):\n",
        "        return self.resnext101(x)\n",
        "\n",
        "# ===========================================================\n",
        "# ✅ **Initialize Model & Move to GPU**\n",
        "# ===========================================================\n",
        "device = torch.device(\"cuda\" if torch.cuda.is_available() else \"cpu\")\n",
        "model = ResNeXt101FineTuned(num_classes=5).to(device)\n",
        "\n",
        "# ✅ Print Model Summary with 224x224 input size (since images are resized)\n",
        "summary(model, (3, 224, 224))  # Adjusted input shape to 224x224 for resized images\n",
        "\n",
        "\n"
      ],
      "metadata": {
        "colab": {
          "base_uri": "https://localhost:8080/"
        },
        "id": "_Qnl5UDcSgp8",
        "outputId": "00d9156c-3c23-4e59-9cdc-26f65b061271"
      },
      "execution_count": 43,
      "outputs": [
        {
          "output_type": "stream",
          "name": "stderr",
          "text": [
            "Downloading: \"https://download.pytorch.org/models/resnext50_32x4d-7cdf4587.pth\" to /root/.cache/torch/hub/checkpoints/resnext50_32x4d-7cdf4587.pth\n",
            "100%|██████████| 95.8M/95.8M [00:01<00:00, 60.6MB/s]\n"
          ]
        },
        {
          "output_type": "stream",
          "name": "stdout",
          "text": [
            "----------------------------------------------------------------\n",
            "        Layer (type)               Output Shape         Param #\n",
            "================================================================\n",
            "            Conv2d-1         [-1, 64, 112, 112]           9,408\n",
            "       BatchNorm2d-2         [-1, 64, 112, 112]             128\n",
            "              ReLU-3         [-1, 64, 112, 112]               0\n",
            "         MaxPool2d-4           [-1, 64, 56, 56]               0\n",
            "            Conv2d-5          [-1, 128, 56, 56]           8,192\n",
            "       BatchNorm2d-6          [-1, 128, 56, 56]             256\n",
            "              ReLU-7          [-1, 128, 56, 56]               0\n",
            "            Conv2d-8          [-1, 128, 56, 56]           4,608\n",
            "       BatchNorm2d-9          [-1, 128, 56, 56]             256\n",
            "             ReLU-10          [-1, 128, 56, 56]               0\n",
            "           Conv2d-11          [-1, 256, 56, 56]          32,768\n",
            "      BatchNorm2d-12          [-1, 256, 56, 56]             512\n",
            "           Conv2d-13          [-1, 256, 56, 56]          16,384\n",
            "      BatchNorm2d-14          [-1, 256, 56, 56]             512\n",
            "             ReLU-15          [-1, 256, 56, 56]               0\n",
            "       Bottleneck-16          [-1, 256, 56, 56]               0\n",
            "           Conv2d-17          [-1, 128, 56, 56]          32,768\n",
            "      BatchNorm2d-18          [-1, 128, 56, 56]             256\n",
            "             ReLU-19          [-1, 128, 56, 56]               0\n",
            "           Conv2d-20          [-1, 128, 56, 56]           4,608\n",
            "      BatchNorm2d-21          [-1, 128, 56, 56]             256\n",
            "             ReLU-22          [-1, 128, 56, 56]               0\n",
            "           Conv2d-23          [-1, 256, 56, 56]          32,768\n",
            "      BatchNorm2d-24          [-1, 256, 56, 56]             512\n",
            "             ReLU-25          [-1, 256, 56, 56]               0\n",
            "       Bottleneck-26          [-1, 256, 56, 56]               0\n",
            "           Conv2d-27          [-1, 128, 56, 56]          32,768\n",
            "      BatchNorm2d-28          [-1, 128, 56, 56]             256\n",
            "             ReLU-29          [-1, 128, 56, 56]               0\n",
            "           Conv2d-30          [-1, 128, 56, 56]           4,608\n",
            "      BatchNorm2d-31          [-1, 128, 56, 56]             256\n",
            "             ReLU-32          [-1, 128, 56, 56]               0\n",
            "           Conv2d-33          [-1, 256, 56, 56]          32,768\n",
            "      BatchNorm2d-34          [-1, 256, 56, 56]             512\n",
            "             ReLU-35          [-1, 256, 56, 56]               0\n",
            "       Bottleneck-36          [-1, 256, 56, 56]               0\n",
            "           Conv2d-37          [-1, 256, 56, 56]          65,536\n",
            "      BatchNorm2d-38          [-1, 256, 56, 56]             512\n",
            "             ReLU-39          [-1, 256, 56, 56]               0\n",
            "           Conv2d-40          [-1, 256, 28, 28]          18,432\n",
            "      BatchNorm2d-41          [-1, 256, 28, 28]             512\n",
            "             ReLU-42          [-1, 256, 28, 28]               0\n",
            "           Conv2d-43          [-1, 512, 28, 28]         131,072\n",
            "      BatchNorm2d-44          [-1, 512, 28, 28]           1,024\n",
            "           Conv2d-45          [-1, 512, 28, 28]         131,072\n",
            "      BatchNorm2d-46          [-1, 512, 28, 28]           1,024\n",
            "             ReLU-47          [-1, 512, 28, 28]               0\n",
            "       Bottleneck-48          [-1, 512, 28, 28]               0\n",
            "           Conv2d-49          [-1, 256, 28, 28]         131,072\n",
            "      BatchNorm2d-50          [-1, 256, 28, 28]             512\n",
            "             ReLU-51          [-1, 256, 28, 28]               0\n",
            "           Conv2d-52          [-1, 256, 28, 28]          18,432\n",
            "      BatchNorm2d-53          [-1, 256, 28, 28]             512\n",
            "             ReLU-54          [-1, 256, 28, 28]               0\n",
            "           Conv2d-55          [-1, 512, 28, 28]         131,072\n",
            "      BatchNorm2d-56          [-1, 512, 28, 28]           1,024\n",
            "             ReLU-57          [-1, 512, 28, 28]               0\n",
            "       Bottleneck-58          [-1, 512, 28, 28]               0\n",
            "           Conv2d-59          [-1, 256, 28, 28]         131,072\n",
            "      BatchNorm2d-60          [-1, 256, 28, 28]             512\n",
            "             ReLU-61          [-1, 256, 28, 28]               0\n",
            "           Conv2d-62          [-1, 256, 28, 28]          18,432\n",
            "      BatchNorm2d-63          [-1, 256, 28, 28]             512\n",
            "             ReLU-64          [-1, 256, 28, 28]               0\n",
            "           Conv2d-65          [-1, 512, 28, 28]         131,072\n",
            "      BatchNorm2d-66          [-1, 512, 28, 28]           1,024\n",
            "             ReLU-67          [-1, 512, 28, 28]               0\n",
            "       Bottleneck-68          [-1, 512, 28, 28]               0\n",
            "           Conv2d-69          [-1, 256, 28, 28]         131,072\n",
            "      BatchNorm2d-70          [-1, 256, 28, 28]             512\n",
            "             ReLU-71          [-1, 256, 28, 28]               0\n",
            "           Conv2d-72          [-1, 256, 28, 28]          18,432\n",
            "      BatchNorm2d-73          [-1, 256, 28, 28]             512\n",
            "             ReLU-74          [-1, 256, 28, 28]               0\n",
            "           Conv2d-75          [-1, 512, 28, 28]         131,072\n",
            "      BatchNorm2d-76          [-1, 512, 28, 28]           1,024\n",
            "             ReLU-77          [-1, 512, 28, 28]               0\n",
            "       Bottleneck-78          [-1, 512, 28, 28]               0\n",
            "           Conv2d-79          [-1, 512, 28, 28]         262,144\n",
            "      BatchNorm2d-80          [-1, 512, 28, 28]           1,024\n",
            "             ReLU-81          [-1, 512, 28, 28]               0\n",
            "           Conv2d-82          [-1, 512, 14, 14]          73,728\n",
            "      BatchNorm2d-83          [-1, 512, 14, 14]           1,024\n",
            "             ReLU-84          [-1, 512, 14, 14]               0\n",
            "           Conv2d-85         [-1, 1024, 14, 14]         524,288\n",
            "      BatchNorm2d-86         [-1, 1024, 14, 14]           2,048\n",
            "           Conv2d-87         [-1, 1024, 14, 14]         524,288\n",
            "      BatchNorm2d-88         [-1, 1024, 14, 14]           2,048\n",
            "             ReLU-89         [-1, 1024, 14, 14]               0\n",
            "       Bottleneck-90         [-1, 1024, 14, 14]               0\n",
            "           Conv2d-91          [-1, 512, 14, 14]         524,288\n",
            "      BatchNorm2d-92          [-1, 512, 14, 14]           1,024\n",
            "             ReLU-93          [-1, 512, 14, 14]               0\n",
            "           Conv2d-94          [-1, 512, 14, 14]          73,728\n",
            "      BatchNorm2d-95          [-1, 512, 14, 14]           1,024\n",
            "             ReLU-96          [-1, 512, 14, 14]               0\n",
            "           Conv2d-97         [-1, 1024, 14, 14]         524,288\n",
            "      BatchNorm2d-98         [-1, 1024, 14, 14]           2,048\n",
            "             ReLU-99         [-1, 1024, 14, 14]               0\n",
            "      Bottleneck-100         [-1, 1024, 14, 14]               0\n",
            "          Conv2d-101          [-1, 512, 14, 14]         524,288\n",
            "     BatchNorm2d-102          [-1, 512, 14, 14]           1,024\n",
            "            ReLU-103          [-1, 512, 14, 14]               0\n",
            "          Conv2d-104          [-1, 512, 14, 14]          73,728\n",
            "     BatchNorm2d-105          [-1, 512, 14, 14]           1,024\n",
            "            ReLU-106          [-1, 512, 14, 14]               0\n",
            "          Conv2d-107         [-1, 1024, 14, 14]         524,288\n",
            "     BatchNorm2d-108         [-1, 1024, 14, 14]           2,048\n",
            "            ReLU-109         [-1, 1024, 14, 14]               0\n",
            "      Bottleneck-110         [-1, 1024, 14, 14]               0\n",
            "          Conv2d-111          [-1, 512, 14, 14]         524,288\n",
            "     BatchNorm2d-112          [-1, 512, 14, 14]           1,024\n",
            "            ReLU-113          [-1, 512, 14, 14]               0\n",
            "          Conv2d-114          [-1, 512, 14, 14]          73,728\n",
            "     BatchNorm2d-115          [-1, 512, 14, 14]           1,024\n",
            "            ReLU-116          [-1, 512, 14, 14]               0\n",
            "          Conv2d-117         [-1, 1024, 14, 14]         524,288\n",
            "     BatchNorm2d-118         [-1, 1024, 14, 14]           2,048\n",
            "            ReLU-119         [-1, 1024, 14, 14]               0\n",
            "      Bottleneck-120         [-1, 1024, 14, 14]               0\n",
            "          Conv2d-121          [-1, 512, 14, 14]         524,288\n",
            "     BatchNorm2d-122          [-1, 512, 14, 14]           1,024\n",
            "            ReLU-123          [-1, 512, 14, 14]               0\n",
            "          Conv2d-124          [-1, 512, 14, 14]          73,728\n",
            "     BatchNorm2d-125          [-1, 512, 14, 14]           1,024\n",
            "            ReLU-126          [-1, 512, 14, 14]               0\n",
            "          Conv2d-127         [-1, 1024, 14, 14]         524,288\n",
            "     BatchNorm2d-128         [-1, 1024, 14, 14]           2,048\n",
            "            ReLU-129         [-1, 1024, 14, 14]               0\n",
            "      Bottleneck-130         [-1, 1024, 14, 14]               0\n",
            "          Conv2d-131          [-1, 512, 14, 14]         524,288\n",
            "     BatchNorm2d-132          [-1, 512, 14, 14]           1,024\n",
            "            ReLU-133          [-1, 512, 14, 14]               0\n",
            "          Conv2d-134          [-1, 512, 14, 14]          73,728\n",
            "     BatchNorm2d-135          [-1, 512, 14, 14]           1,024\n",
            "            ReLU-136          [-1, 512, 14, 14]               0\n",
            "          Conv2d-137         [-1, 1024, 14, 14]         524,288\n",
            "     BatchNorm2d-138         [-1, 1024, 14, 14]           2,048\n",
            "            ReLU-139         [-1, 1024, 14, 14]               0\n",
            "      Bottleneck-140         [-1, 1024, 14, 14]               0\n",
            "          Conv2d-141         [-1, 1024, 14, 14]       1,048,576\n",
            "     BatchNorm2d-142         [-1, 1024, 14, 14]           2,048\n",
            "            ReLU-143         [-1, 1024, 14, 14]               0\n",
            "          Conv2d-144           [-1, 1024, 7, 7]         294,912\n",
            "     BatchNorm2d-145           [-1, 1024, 7, 7]           2,048\n",
            "            ReLU-146           [-1, 1024, 7, 7]               0\n",
            "          Conv2d-147           [-1, 2048, 7, 7]       2,097,152\n",
            "     BatchNorm2d-148           [-1, 2048, 7, 7]           4,096\n",
            "          Conv2d-149           [-1, 2048, 7, 7]       2,097,152\n",
            "     BatchNorm2d-150           [-1, 2048, 7, 7]           4,096\n",
            "            ReLU-151           [-1, 2048, 7, 7]               0\n",
            "      Bottleneck-152           [-1, 2048, 7, 7]               0\n",
            "          Conv2d-153           [-1, 1024, 7, 7]       2,097,152\n",
            "     BatchNorm2d-154           [-1, 1024, 7, 7]           2,048\n",
            "            ReLU-155           [-1, 1024, 7, 7]               0\n",
            "          Conv2d-156           [-1, 1024, 7, 7]         294,912\n",
            "     BatchNorm2d-157           [-1, 1024, 7, 7]           2,048\n",
            "            ReLU-158           [-1, 1024, 7, 7]               0\n",
            "          Conv2d-159           [-1, 2048, 7, 7]       2,097,152\n",
            "     BatchNorm2d-160           [-1, 2048, 7, 7]           4,096\n",
            "            ReLU-161           [-1, 2048, 7, 7]               0\n",
            "      Bottleneck-162           [-1, 2048, 7, 7]               0\n",
            "          Conv2d-163           [-1, 1024, 7, 7]       2,097,152\n",
            "     BatchNorm2d-164           [-1, 1024, 7, 7]           2,048\n",
            "            ReLU-165           [-1, 1024, 7, 7]               0\n",
            "          Conv2d-166           [-1, 1024, 7, 7]         294,912\n",
            "     BatchNorm2d-167           [-1, 1024, 7, 7]           2,048\n",
            "            ReLU-168           [-1, 1024, 7, 7]               0\n",
            "          Conv2d-169           [-1, 2048, 7, 7]       2,097,152\n",
            "     BatchNorm2d-170           [-1, 2048, 7, 7]           4,096\n",
            "            ReLU-171           [-1, 2048, 7, 7]               0\n",
            "      Bottleneck-172           [-1, 2048, 7, 7]               0\n",
            "AdaptiveAvgPool2d-173           [-1, 2048, 1, 1]               0\n",
            "          Linear-174                    [-1, 5]          10,245\n",
            "          ResNet-175                    [-1, 5]               0\n",
            "================================================================\n",
            "Total params: 22,990,149\n",
            "Trainable params: 22,990,149\n",
            "Non-trainable params: 0\n",
            "----------------------------------------------------------------\n",
            "Input size (MB): 0.57\n",
            "Forward/backward pass size (MB): 361.77\n",
            "Params size (MB): 87.70\n",
            "Estimated Total Size (MB): 450.05\n",
            "----------------------------------------------------------------\n"
          ]
        }
      ]
    },
    {
      "cell_type": "code",
      "source": [
        "# ✅ Define Hyperparameters\n",
        "num_epochs = 50\n",
        "lr = 1e-5  # Increased for better convergence\n",
        "weight_decay = 2e-4  # Moderate regularization\n",
        "\n",
        "# ✅ Loss Function: Use CrossEntropyLoss (for Multi-Class)\n",
        "loss_fn = nn.CrossEntropyLoss()\n",
        "\n",
        "# ✅ Optimizer: AdamW (Better Generalization)\n",
        "optimizer = optim.AdamW(model.parameters(), lr=lr, weight_decay=weight_decay)\n",
        "\n",
        "\n",
        "# ✅ Learning Rate Scheduler: ReduceLROnPlateau\n",
        "scheduler = optim.lr_scheduler.ReduceLROnPlateau(\n",
        "    optimizer,\n",
        "    mode='min',  # Reduce the learning rate when the validation loss stops decreasing\n",
        "    factor=0.5,  # Reduce learning rate by 50%\n",
        "    patience=3,  # Number of epochs with no improvement before reducing lr\n",
        "    verbose=True  # Display when the learning rate is reduced\n",
        "    #min_lr=1e-7  # Minimum learning rate (avoid going below this value)\n",
        ")\n",
        "# ✅ Gradient Scaling for Mixed Precision Training (Speed & Stability)\n",
        "scaler = GradScaler()\n",
        "\n",
        "# ✅ Model Training Check\n",
        "print(f\"✅ Model Initialized on {device}\")\n"
      ],
      "metadata": {
        "colab": {
          "base_uri": "https://localhost:8080/"
        },
        "id": "DT4WtN84Sodz",
        "outputId": "186df882-1feb-4dd2-f3b8-f6ec734672cc"
      },
      "execution_count": 44,
      "outputs": [
        {
          "output_type": "stream",
          "name": "stdout",
          "text": [
            "✅ Model Initialized on cuda\n"
          ]
        },
        {
          "output_type": "stream",
          "name": "stderr",
          "text": [
            "<ipython-input-44-1e2e8e8c2b86>:23: FutureWarning: `torch.cuda.amp.GradScaler(args...)` is deprecated. Please use `torch.amp.GradScaler('cuda', args...)` instead.\n",
            "  scaler = GradScaler()\n"
          ]
        }
      ]
    },
    {
      "cell_type": "code",
      "source": [
        "import os\n",
        "\n",
        "class EarlyStopping:\n",
        "    def __init__(self, patience=10, verbose=False, delta=0, monitor='loss'):\n",
        "        \"\"\"\n",
        "        patience: How many epochs to wait before stopping.\n",
        "        verbose: Whether to print progress.\n",
        "        delta: Minimum change to qualify as an improvement.\n",
        "        monitor: What to monitor ('loss' or 'accuracy').\n",
        "        \"\"\"\n",
        "        self.patience = patience\n",
        "        self.verbose = verbose\n",
        "        self.counter = 0\n",
        "        self.best_score = float('inf') if monitor == 'loss' else -float('inf')  # Initialize based on monitor type\n",
        "        self.best_epoch = 0\n",
        "        self.early_stop = False\n",
        "        self.delta = delta\n",
        "        self.monitor = monitor  # What to monitor: 'loss' or 'accuracy'\n",
        "\n",
        "    def __call__(self, val_score, epoch, model_weights, model_name_prefix):\n",
        "        \"\"\"\n",
        "        val_score: The validation loss/accuracy in the current epoch.\n",
        "        epoch: The current epoch.\n",
        "        model_weights: The weights of the model (usually model.state_dict()).\n",
        "        model_name_prefix: The prefix for the model's name (e.g., 'model_1', 'model_2').\n",
        "        \"\"\"\n",
        "        # If monitoring 'loss', we expect the value to decrease\n",
        "        if self.monitor == 'loss':\n",
        "            if val_score < self.best_score - self.delta:\n",
        "                self.best_score = val_score\n",
        "                self.best_epoch = epoch\n",
        "                self.counter = 0\n",
        "                self.save_best_weights(model_weights, model_name_prefix)\n",
        "            else:\n",
        "                self.counter += 1\n",
        "        # If monitoring 'accuracy', we expect the value to increase\n",
        "        elif self.monitor == 'accuracy':\n",
        "            if val_score > self.best_score + self.delta:\n",
        "                self.best_score = val_score\n",
        "                self.best_epoch = epoch\n",
        "                self.counter = 0\n",
        "                self.save_best_weights(model_weights, model_name_prefix)\n",
        "            else:\n",
        "                self.counter += 1\n",
        "\n",
        "        if self.counter >= self.patience:\n",
        "            self.early_stop = True\n",
        "            if self.verbose:\n",
        "                print(f\"Early stopping triggered after {self.counter} epochs of no improvement.\")\n",
        "\n",
        "    def save_best_weights(self, model_weights, model_name_prefix):\n",
        "        \"\"\"\n",
        "        Save the model weights with a unique name for each model.\n",
        "        model_name_prefix: The prefix for the model's name (e.g., 'model_1', 'model_2').\n",
        "        \"\"\"\n",
        "        model_name = f\"{model_name_prefix}_epoch_{self.best_epoch + 1}.pth\"\n",
        "\n",
        "        # Clean up previous saved model files (optional, to avoid disk clutter)\n",
        "        for file in os.listdir():\n",
        "            if file.startswith(model_name_prefix) and file != model_name:\n",
        "                os.remove(file)\n",
        "                if self.verbose:\n",
        "                    print(f\"🗑️ Deleted old model file: {file}\")\n",
        "\n",
        "        torch.save(model_weights, model_name)\n",
        "        if self.verbose:\n",
        "            print(f\"✅ Best model weights saved to {model_name}.\")\n"
      ],
      "metadata": {
        "id": "2XDaRb1OSzR5"
      },
      "execution_count": 45,
      "outputs": []
    },
    {
      "cell_type": "code",
      "source": [
        "\n",
        "# Training loop\n",
        "best_val_loss = float('inf')  # Initialize best validation loss\n",
        "best_model_weights = None\n",
        "\n",
        "def train_and_validate(model, train_loader, valid_loader, optimizer, scheduler, criterion, model_name_prefix, epochs=25, device=None, early_stopping=None):\n",
        "\n",
        "    # Store losses and accuracies\n",
        "    train_losses = []\n",
        "    valid_losses = []\n",
        "    train_accuracies = []\n",
        "    valid_accuracies = []\n",
        "    auc_scores = []\n",
        "\n",
        "    for epoch in range(epochs):\n",
        "        print(f'Epoch {epoch + 1}/{epochs}')\n",
        "        print('-' * 50)\n",
        "\n",
        "        # Training phase\n",
        "        model.train()\n",
        "        running_loss = 0.0\n",
        "        correct_preds = 0\n",
        "        total_preds = 0\n",
        "\n",
        "        for batch_idx, (inputs, labels) in enumerate(train_loader):\n",
        "            inputs, labels = inputs.to(device), labels.to(device)\n",
        "            optimizer.zero_grad()\n",
        "\n",
        "            # Ensure labels are Long for CrossEntropyLoss\n",
        "            labels = labels.long()  # Cast labels to Long\n",
        "\n",
        "            # Mixed precision forward pass\n",
        "            with torch.amp.autocast('cuda'):\n",
        "\n",
        "                raw_outputs = model(inputs)  # Get raw logits (not passed through softmax)\n",
        "                loss = criterion(raw_outputs, labels)  # Compute loss\n",
        "\n",
        "            # Backward pass with mixed precision\n",
        "            scaler.scale(loss).backward()\n",
        "            scaler.step(optimizer)\n",
        "            scaler.update()\n",
        "\n",
        "            running_loss += loss.item() * inputs.size(0)\n",
        "\n",
        "            # Compute predictions (Get class with highest logit)\n",
        "            with torch.no_grad():\n",
        "                _, preds = torch.max(raw_outputs, 1)  # Preds are class indices\n",
        "            correct_preds += torch.sum(preds == labels.data)\n",
        "            total_preds += labels.size(0)\n",
        "\n",
        "        epoch_loss = running_loss / len(train_loader.dataset)\n",
        "        epoch_acc = correct_preds.double() / total_preds\n",
        "        print(f'Training Loss: {epoch_loss:.4f}, Accuracy: {epoch_acc:.4f}')\n",
        "\n",
        "        # Store training loss and accuracy\n",
        "        train_losses.append(epoch_loss)\n",
        "        train_accuracies.append(epoch_acc.item())\n",
        "\n",
        "        # Validation phase\n",
        "        model.eval()\n",
        "        running_loss = 0.0\n",
        "        correct_preds = 0\n",
        "        total_preds = 0\n",
        "        all_preds = []\n",
        "        all_labels = []\n",
        "\n",
        "        with torch.no_grad():\n",
        "            for inputs, labels in valid_loader:\n",
        "                inputs, labels = inputs.to(device), labels.to(device)\n",
        "\n",
        "                # Ensure labels are Long for CrossEntropyLoss\n",
        "                labels = labels.long()  # Cast labels to Long\n",
        "\n",
        "                with torch.amp.autocast('cuda'):\n",
        "                    raw_outputs = model(inputs)  # Get raw logits\n",
        "                    loss = criterion(raw_outputs, labels)  # Compute loss\n",
        "\n",
        "                running_loss += loss.item() * inputs.size(0)\n",
        "                _, preds = torch.max(raw_outputs, 1)  # Preds are class indices\n",
        "                correct_preds += torch.sum(preds == labels.data)\n",
        "                total_preds += labels.size(0)\n",
        "                all_preds.extend(preds.cpu().numpy())\n",
        "                all_labels.extend(labels.cpu().numpy())\n",
        "\n",
        "        epoch_loss = running_loss / len(valid_loader.dataset)\n",
        "        epoch_acc = correct_preds.double() / total_preds\n",
        "        print(f'Validation Loss: {epoch_loss:.4f}, Accuracy: {epoch_acc:.4f}')\n",
        "\n",
        "        # Store validation loss and accuracy\n",
        "        valid_losses.append(epoch_loss)\n",
        "        valid_accuracies.append(epoch_acc.item())\n",
        "\n",
        "\n",
        "        # Step the scheduler based on validation loss\n",
        "        scheduler.step(epoch_loss)\n",
        "\n",
        "        # ✅ Early stopping check: save model based on validation loss\n",
        "        if early_stopping is not None:\n",
        "            early_stopping(epoch_loss, epoch, model.state_dict(), model_name_prefix=\"model\")\n",
        "            if early_stopping.early_stop:\n",
        "                print(f\"🚨 Early stopping triggered at epoch {epoch+1}.\")\n",
        "                break\n",
        "\n",
        "        # ✅ Display confusion matrix & classification report every 5 epochs\n",
        "        if epoch % 5 == 0 or early_stopping.early_stop:\n",
        "            cm = confusion_matrix(all_labels, all_preds)\n",
        "            plot_confusion_matrix(cm, classes=[i for i in range(len(set(all_labels)))])\n",
        "            print(\"Classification Report:\")\n",
        "            print(classification_report(all_labels, all_preds))\n",
        "\n",
        "    # ✅ Load the best model weights from early stopping\n",
        "    print(\"Loading best model weights...\")\n",
        "    model.load_state_dict(torch.load(\"model_epoch_{}.pth\".format(early_stopping.best_epoch + 1)))\n",
        "\n",
        "    # ✅ Plot training metrics\n",
        "    plot_metrics(train_losses, valid_losses, train_accuracies, valid_accuracies)\n",
        "\n",
        "\n",
        "    return model\n",
        "\n",
        "\n",
        "\n",
        "\n",
        "\n",
        "# Helper function to plot confusion matrix\n",
        "def plot_confusion_matrix(cm, classes, title='Confusion Matrix'):\n",
        "    plt.figure(figsize=(6, 6))\n",
        "    sns.heatmap(cm, annot=True, fmt='d', cmap='Blues', xticklabels=classes, yticklabels=classes, cbar=False)\n",
        "    plt.title(title)\n",
        "    plt.ylabel('True label')\n",
        "    plt.xlabel('Predicted label')\n",
        "    plt.tight_layout()\n",
        "    plt.show()\n",
        "\n",
        "\n",
        "# Helper function to plot losses, accuracies, and AUC scores\n",
        "def plot_metrics(train_losses, valid_losses, train_accuracies, valid_accuracies):\n",
        "    epochs = range(1, len(train_losses) + 1)\n",
        "\n",
        "    plt.figure(figsize=(16, 8))\n",
        "\n",
        "    # Plot training and validation loss\n",
        "    plt.subplot(1, 3, 1)\n",
        "    plt.plot(epochs, train_losses, label='Training Loss', color='blue')\n",
        "    plt.plot(epochs, valid_losses, label='Validation Loss', color='red')\n",
        "    plt.title('Loss per Epoch')\n",
        "    plt.xlabel('Epochs')\n",
        "    plt.ylabel('Loss')\n",
        "    plt.legend()\n",
        "\n",
        "    # Plot training and validation accuracy\n",
        "    plt.subplot(1, 3, 2)\n",
        "    plt.plot(epochs, train_accuracies, label='Training Accuracy', color='blue')\n",
        "    plt.plot(epochs, valid_accuracies, label='Validation Accuracy', color='red')\n",
        "    plt.title('Accuracy per Epoch')\n",
        "    plt.xlabel('Epochs')\n",
        "    plt.ylabel('Accuracy')\n",
        "    plt.legend()\n",
        "\n",
        "\n",
        "\n",
        "    plt.tight_layout()\n",
        "    plt.show()\n"
      ],
      "metadata": {
        "id": "NWoHaFoES4fq"
      },
      "execution_count": 46,
      "outputs": []
    },
    {
      "cell_type": "code",
      "source": [
        "import torch\n",
        "from sklearn.metrics import confusion_matrix, classification_report\n",
        "import matplotlib.pyplot as plt\n",
        "import seaborn as sns\n",
        "\n",
        "def test_model(model, test_loader, criterion, device, num_classes=6):\n",
        "    \"\"\"\n",
        "    Evaluates the model on the test set, computes loss and accuracy,\n",
        "    and displays the confusion matrix and classification report.\n",
        "\n",
        "    Args:\n",
        "        model: The trained PyTorch model.\n",
        "        test_loader: DataLoader for the test set.\n",
        "        criterion: The loss function used during training (e.g., CrossEntropyLoss).\n",
        "        device: The device to run inference on (e.g., torch.device('cuda') or torch.device('cpu')).\n",
        "        num_classes: The number of classes in the classification task.\n",
        "    \"\"\"\n",
        "    model.eval()  # Set model to evaluation mode\n",
        "    running_loss = 0.0\n",
        "    correct_preds = 0\n",
        "    total_preds = 0\n",
        "    all_preds = []\n",
        "    all_labels = []\n",
        "\n",
        "    with torch.no_grad():\n",
        "        for inputs, labels in test_loader:\n",
        "            inputs, labels = inputs.to(device), labels.to(device)\n",
        "\n",
        "            # Use autocast for mixed precision inference\n",
        "            with torch.amp.autocast('cuda'):\n",
        "                raw_outputs = model(inputs)  # Get raw logits from the model\n",
        "                loss = criterion(raw_outputs, labels)  # Compute loss\n",
        "\n",
        "            running_loss += loss.item() * inputs.size(0)\n",
        "\n",
        "            # Get class predictions (highest probability for multi-class)\n",
        "            _, preds = torch.max(raw_outputs, 1)\n",
        "\n",
        "            # Update accuracy counters\n",
        "            correct_preds += torch.sum(preds == labels.data)\n",
        "            total_preds += labels.size(0)\n",
        "\n",
        "            # Accumulate for metrics\n",
        "            all_preds.extend(preds.cpu().numpy())\n",
        "            all_labels.extend(labels.cpu().numpy())\n",
        "\n",
        "    # Calculate overall test loss and accuracy\n",
        "    test_loss = running_loss / len(test_loader.dataset)\n",
        "    test_accuracy = correct_preds.double() / total_preds\n",
        "\n",
        "    print(f\"Test Loss: {test_loss:.4f}, Test Accuracy: {test_accuracy:.4f}\")\n",
        "\n",
        "    # Compute confusion matrix and classification report\n",
        "    cm = confusion_matrix(all_labels, all_preds)\n",
        "    print(\"Classification Report:\")\n",
        "    print(classification_report(all_labels, all_preds, target_names=[str(i) for i in range(num_classes)]))\n",
        "\n",
        "    # Plot confusion matrix\n",
        "    plt.figure(figsize=(10, 7))\n",
        "    sns.heatmap(cm, annot=True, fmt=\"d\", cmap=\"Blues\", xticklabels=[str(i) for i in range(num_classes)], yticklabels=[str(i) for i in range(num_classes)])\n",
        "    plt.xlabel('Predicted')\n",
        "    plt.ylabel('True')\n",
        "    plt.title('Confusion Matrix')\n",
        "    plt.show()\n"
      ],
      "metadata": {
        "id": "7BjCuwJaS52o"
      },
      "execution_count": 47,
      "outputs": []
    },
    {
      "cell_type": "code",
      "source": [
        "# Example:\n",
        "early_stopping = EarlyStopping(patience=5, verbose=True, delta=0)\n",
        "model_name_prefix = \"model_resnext50\"  # Or dynamically change this per model\n",
        "trained_model = train_and_validate(\n",
        "    model,\n",
        "    train_loader,\n",
        "    val_loader,\n",
        "    optimizer,\n",
        "    scheduler,\n",
        "    loss_fn,\n",
        "    epochs=25,\n",
        "    device=device,\n",
        "    early_stopping=early_stopping,\n",
        "    model_name_prefix=model_name_prefix)\n",
        "\n"
      ],
      "metadata": {
        "colab": {
          "base_uri": "https://localhost:8080/",
          "height": 1000
        },
        "id": "VEpjbEkbS77e",
        "outputId": "f50acd76-be3e-4f8e-9e73-5b87b8a7249a"
      },
      "execution_count": null,
      "outputs": [
        {
          "metadata": {
            "tags": null
          },
          "name": "stdout",
          "output_type": "stream",
          "text": [
            "Epoch 1/25\n",
            "--------------------------------------------------\n",
            "Training Loss: 1.2603, Accuracy: 0.5362\n",
            "Validation Loss: 1.1083, Accuracy: 0.5991\n",
            "✅ Best model weights saved to model_epoch_1.pth.\n"
          ]
        },
        {
          "data": {
            "image/png": "[encoded data removed]",
            "text/plain": [
              "<Figure size 600x600 with 1 Axes>"
            ]
          },
          "metadata": {},
          "output_type": "display_data"
        },
        {
          "metadata": {
            "tags": null
          },
          "name": "stdout",
          "output_type": "stream",
          "text": [
            "Classification Report:\n",
            "              precision    recall  f1-score   support\n",
            "\n",
            "           0       0.65      0.62      0.63       360\n",
            "           1       0.57      0.72      0.63       360\n",
            "           2       0.59      0.46      0.52       360\n",
            "\n",
            "    accuracy                           0.60      1080\n",
            "   macro avg       0.60      0.60      0.60      1080\n",
            "weighted avg       0.60      0.60      0.60      1080\n",
            "\n",
            "Epoch 2/25\n",
            "--------------------------------------------------\n",
            "Training Loss: 0.8845, Accuracy: 0.6680\n",
            "Validation Loss: 0.9273, Accuracy: 0.6500\n",
            "🗑️ Deleted old model file: model_epoch_1.pth\n",
            "✅ Best model weights saved to model_epoch_2.pth.\n",
            "Epoch 3/25\n",
            "--------------------------------------------------\n",
            "Training Loss: 0.7695, Accuracy: 0.6926\n",
            "Validation Loss: 0.8340, Accuracy: 0.6657\n",
            "🗑️ Deleted old model file: model_epoch_2.pth\n",
            "✅ Best model weights saved to model_epoch_3.pth.\n",
            "Epoch 4/25\n",
            "--------------------------------------------------\n",
            "Training Loss: 0.7045, Accuracy: 0.7050\n",
            "Validation Loss: 0.7964, Accuracy: 0.6722\n",
            "🗑️ Deleted old model file: model_epoch_3.pth\n",
            "✅ Best model weights saved to model_epoch_4.pth.\n",
            "Epoch 5/25\n",
            "--------------------------------------------------\n",
            "Training Loss: 0.6550, Accuracy: 0.7265\n",
            "Validation Loss: 0.7775, Accuracy: 0.6546\n",
            "🗑️ Deleted old model file: model_epoch_4.pth\n",
            "✅ Best model weights saved to model_epoch_5.pth.\n",
            "Epoch 6/25\n",
            "--------------------------------------------------\n",
            "Training Loss: 0.6154, Accuracy: 0.7368\n",
            "Validation Loss: 0.7564, Accuracy: 0.6759\n",
            "🗑️ Deleted old model file: model_epoch_5.pth\n",
            "✅ Best model weights saved to model_epoch_6.pth.\n"
          ]
        },
        {
          "data": {
            "image/png": "[encoded data removed]",
            "text/plain": [
              "<Figure size 600x600 with 1 Axes>"
            ]
          },
          "metadata": {},
          "output_type": "display_data"
        },
        {
          "metadata": {
            "tags": null
          },
          "name": "stdout",
          "output_type": "stream",
          "text": [
            "Classification Report:\n",
            "              precision    recall  f1-score   support\n",
            "\n",
            "           0       0.70      0.69      0.69       360\n",
            "           1       0.73      0.63      0.68       360\n",
            "           2       0.62      0.71      0.66       360\n",
            "\n",
            "    accuracy                           0.68      1080\n",
            "   macro avg       0.68      0.68      0.68      1080\n",
            "weighted avg       0.68      0.68      0.68      1080\n",
            "\n",
            "Epoch 7/25\n",
            "--------------------------------------------------\n",
            "Training Loss: 0.5916, Accuracy: 0.7492\n",
            "Validation Loss: 0.7165, Accuracy: 0.6981\n",
            "🗑️ Deleted old model file: model_epoch_6.pth\n",
            "✅ Best model weights saved to model_epoch_7.pth.\n",
            "Epoch 8/25\n",
            "--------------------------------------------------\n",
            "Training Loss: 0.5696, Accuracy: 0.7598\n",
            "Validation Loss: 0.7099, Accuracy: 0.6796\n",
            "🗑️ Deleted old model file: model_epoch_7.pth\n",
            "✅ Best model weights saved to model_epoch_8.pth.\n",
            "Epoch 9/25\n",
            "--------------------------------------------------\n",
            "Training Loss: 0.5314, Accuracy: 0.7757\n",
            "Validation Loss: 0.6895, Accuracy: 0.6972\n",
            "🗑️ Deleted old model file: model_epoch_8.pth\n",
            "✅ Best model weights saved to model_epoch_9.pth.\n",
            "Epoch 10/25\n",
            "--------------------------------------------------\n",
            "Training Loss: 0.5050, Accuracy: 0.7815\n",
            "Validation Loss: 0.6553, Accuracy: 0.7222\n",
            "🗑️ Deleted old model file: model_epoch_9.pth\n",
            "✅ Best model weights saved to model_epoch_10.pth.\n",
            "Epoch 11/25\n",
            "--------------------------------------------------\n",
            "Training Loss: 0.4773, Accuracy: 0.7955\n",
            "Validation Loss: 0.6366, Accuracy: 0.7343\n",
            "🗑️ Deleted old model file: model_epoch_10.pth\n",
            "✅ Best model weights saved to model_epoch_11.pth.\n"
          ]
        },
        {
          "data": {
            "image/png": "[encoded data removed]",
            "text/plain": [
              "<Figure size 600x600 with 1 Axes>"
            ]
          },
          "metadata": {},
          "output_type": "display_data"
        },
        {
          "output_type": "stream",
          "name": "stdout",
          "text": [
            "Classification Report:\n",
            "              precision    recall  f1-score   support\n",
            "\n",
            "           0       0.74      0.76      0.75       360\n",
            "           1       0.75      0.74      0.74       360\n",
            "           2       0.72      0.71      0.71       360\n",
            "\n",
            "    accuracy                           0.73      1080\n",
            "   macro avg       0.73      0.73      0.73      1080\n",
            "weighted avg       0.73      0.73      0.73      1080\n",
            "\n",
            "Epoch 12/25\n",
            "--------------------------------------------------\n",
            "Training Loss: 0.4589, Accuracy: 0.8077\n",
            "Validation Loss: 0.6437, Accuracy: 0.7046\n",
            "Epoch 13/25\n",
            "--------------------------------------------------\n",
            "Training Loss: 0.4420, Accuracy: 0.8127\n",
            "Validation Loss: 0.6186, Accuracy: 0.7157\n",
            "🗑️ Deleted old model file: model_epoch_11.pth\n",
            "✅ Best model weights saved to model_epoch_13.pth.\n",
            "Epoch 14/25\n",
            "--------------------------------------------------\n",
            "Training Loss: 0.4151, Accuracy: 0.8336\n",
            "Validation Loss: 0.5944, Accuracy: 0.7426\n",
            "🗑️ Deleted old model file: model_epoch_13.pth\n",
            "✅ Best model weights saved to model_epoch_14.pth.\n",
            "Epoch 15/25\n",
            "--------------------------------------------------\n",
            "Training Loss: 0.4093, Accuracy: 0.8280\n",
            "Validation Loss: 0.6308, Accuracy: 0.7287\n",
            "Epoch 16/25\n",
            "--------------------------------------------------\n"
          ]
        }
      ]
    },
    {
      "cell_type": "code",
      "source": [],
      "metadata": {
        "id": "f6M3GAVrTBCz"
      },
      "execution_count": null,
      "outputs": []
    }
  ]
}